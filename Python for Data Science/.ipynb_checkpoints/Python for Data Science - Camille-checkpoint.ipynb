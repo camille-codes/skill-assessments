{
 "cells": [
  {
   "cell_type": "code",
   "execution_count": 13,
   "id": "8d3ef1f0",
   "metadata": {},
   "outputs": [],
   "source": [
    "import pandas as pd\n",
    "import matplotlib.pyplot as plt\n",
    "import scipy.stats as stats\n",
    "import plotly.express as px\n",
    "import statistics\n",
    "import numpy as np\n",
    "from collections import Counter"
   ]
  },
  {
   "cell_type": "markdown",
   "id": "2fd613a8",
   "metadata": {},
   "source": [
    "## Part 1: Preliminary Exercise"
   ]
  },
  {
   "cell_type": "markdown",
   "id": "3f904a55",
   "metadata": {},
   "source": [
    "#### 1. Read in the gapminder_clean.csv data as a pandas DataFrame"
   ]
  },
  {
   "cell_type": "code",
   "execution_count": 14,
   "id": "5aeabc5d",
   "metadata": {},
   "outputs": [
    {
     "data": {
      "text/html": [
       "<div>\n",
       "<style scoped>\n",
       "    .dataframe tbody tr th:only-of-type {\n",
       "        vertical-align: middle;\n",
       "    }\n",
       "\n",
       "    .dataframe tbody tr th {\n",
       "        vertical-align: top;\n",
       "    }\n",
       "\n",
       "    .dataframe thead th {\n",
       "        text-align: right;\n",
       "    }\n",
       "</style>\n",
       "<table border=\"1\" class=\"dataframe\">\n",
       "  <thead>\n",
       "    <tr style=\"text-align: right;\">\n",
       "      <th></th>\n",
       "      <th>Unnamed: 0</th>\n",
       "      <th>Country Name</th>\n",
       "      <th>Year</th>\n",
       "      <th>Agriculture, value added (% of GDP)</th>\n",
       "      <th>CO2 emissions (metric tons per capita)</th>\n",
       "      <th>Domestic credit provided by financial sector (% of GDP)</th>\n",
       "      <th>Electric power consumption (kWh per capita)</th>\n",
       "      <th>Energy use (kg of oil equivalent per capita)</th>\n",
       "      <th>Exports of goods and services (% of GDP)</th>\n",
       "      <th>Fertility rate, total (births per woman)</th>\n",
       "      <th>GDP growth (annual %)</th>\n",
       "      <th>Imports of goods and services (% of GDP)</th>\n",
       "      <th>Industry, value added (% of GDP)</th>\n",
       "      <th>Inflation, GDP deflator (annual %)</th>\n",
       "      <th>Life expectancy at birth, total (years)</th>\n",
       "      <th>Population density (people per sq. km of land area)</th>\n",
       "      <th>Services, etc., value added (% of GDP)</th>\n",
       "      <th>pop</th>\n",
       "      <th>continent</th>\n",
       "      <th>gdpPercap</th>\n",
       "    </tr>\n",
       "  </thead>\n",
       "  <tbody>\n",
       "    <tr>\n",
       "      <th>0</th>\n",
       "      <td>0</td>\n",
       "      <td>Afghanistan</td>\n",
       "      <td>1962</td>\n",
       "      <td>NaN</td>\n",
       "      <td>0.073781</td>\n",
       "      <td>21.276422</td>\n",
       "      <td>NaN</td>\n",
       "      <td>NaN</td>\n",
       "      <td>4.878051</td>\n",
       "      <td>7.450</td>\n",
       "      <td>NaN</td>\n",
       "      <td>9.349593</td>\n",
       "      <td>NaN</td>\n",
       "      <td>NaN</td>\n",
       "      <td>33.219902</td>\n",
       "      <td>14.312061</td>\n",
       "      <td>NaN</td>\n",
       "      <td>10267083.0</td>\n",
       "      <td>Asia</td>\n",
       "      <td>853.100710</td>\n",
       "    </tr>\n",
       "    <tr>\n",
       "      <th>1</th>\n",
       "      <td>1</td>\n",
       "      <td>Afghanistan</td>\n",
       "      <td>1967</td>\n",
       "      <td>NaN</td>\n",
       "      <td>0.123782</td>\n",
       "      <td>9.917662</td>\n",
       "      <td>NaN</td>\n",
       "      <td>NaN</td>\n",
       "      <td>6.772908</td>\n",
       "      <td>7.450</td>\n",
       "      <td>NaN</td>\n",
       "      <td>14.209827</td>\n",
       "      <td>NaN</td>\n",
       "      <td>NaN</td>\n",
       "      <td>35.389415</td>\n",
       "      <td>15.881812</td>\n",
       "      <td>NaN</td>\n",
       "      <td>11537966.0</td>\n",
       "      <td>Asia</td>\n",
       "      <td>836.197138</td>\n",
       "    </tr>\n",
       "    <tr>\n",
       "      <th>2</th>\n",
       "      <td>2</td>\n",
       "      <td>Afghanistan</td>\n",
       "      <td>1972</td>\n",
       "      <td>NaN</td>\n",
       "      <td>0.130820</td>\n",
       "      <td>18.880833</td>\n",
       "      <td>NaN</td>\n",
       "      <td>NaN</td>\n",
       "      <td>14.763231</td>\n",
       "      <td>7.450</td>\n",
       "      <td>NaN</td>\n",
       "      <td>18.105850</td>\n",
       "      <td>NaN</td>\n",
       "      <td>NaN</td>\n",
       "      <td>37.610146</td>\n",
       "      <td>17.947027</td>\n",
       "      <td>NaN</td>\n",
       "      <td>13079460.0</td>\n",
       "      <td>Asia</td>\n",
       "      <td>739.981106</td>\n",
       "    </tr>\n",
       "    <tr>\n",
       "      <th>3</th>\n",
       "      <td>3</td>\n",
       "      <td>Afghanistan</td>\n",
       "      <td>1977</td>\n",
       "      <td>NaN</td>\n",
       "      <td>0.183118</td>\n",
       "      <td>13.836822</td>\n",
       "      <td>NaN</td>\n",
       "      <td>NaN</td>\n",
       "      <td>11.662904</td>\n",
       "      <td>7.449</td>\n",
       "      <td>NaN</td>\n",
       "      <td>14.823175</td>\n",
       "      <td>NaN</td>\n",
       "      <td>NaN</td>\n",
       "      <td>40.110146</td>\n",
       "      <td>19.998926</td>\n",
       "      <td>NaN</td>\n",
       "      <td>14880372.0</td>\n",
       "      <td>Asia</td>\n",
       "      <td>786.113360</td>\n",
       "    </tr>\n",
       "    <tr>\n",
       "      <th>4</th>\n",
       "      <td>4</td>\n",
       "      <td>Afghanistan</td>\n",
       "      <td>1982</td>\n",
       "      <td>NaN</td>\n",
       "      <td>0.165879</td>\n",
       "      <td>NaN</td>\n",
       "      <td>NaN</td>\n",
       "      <td>NaN</td>\n",
       "      <td>NaN</td>\n",
       "      <td>7.450</td>\n",
       "      <td>NaN</td>\n",
       "      <td>NaN</td>\n",
       "      <td>NaN</td>\n",
       "      <td>NaN</td>\n",
       "      <td>43.230732</td>\n",
       "      <td>19.402324</td>\n",
       "      <td>NaN</td>\n",
       "      <td>12881816.0</td>\n",
       "      <td>Asia</td>\n",
       "      <td>978.011439</td>\n",
       "    </tr>\n",
       "    <tr>\n",
       "      <th>...</th>\n",
       "      <td>...</td>\n",
       "      <td>...</td>\n",
       "      <td>...</td>\n",
       "      <td>...</td>\n",
       "      <td>...</td>\n",
       "      <td>...</td>\n",
       "      <td>...</td>\n",
       "      <td>...</td>\n",
       "      <td>...</td>\n",
       "      <td>...</td>\n",
       "      <td>...</td>\n",
       "      <td>...</td>\n",
       "      <td>...</td>\n",
       "      <td>...</td>\n",
       "      <td>...</td>\n",
       "      <td>...</td>\n",
       "      <td>...</td>\n",
       "      <td>...</td>\n",
       "      <td>...</td>\n",
       "      <td>...</td>\n",
       "    </tr>\n",
       "    <tr>\n",
       "      <th>2602</th>\n",
       "      <td>2602</td>\n",
       "      <td>Zimbabwe</td>\n",
       "      <td>1987</td>\n",
       "      <td>14.407528</td>\n",
       "      <td>1.598217</td>\n",
       "      <td>74.161607</td>\n",
       "      <td>878.072691</td>\n",
       "      <td>896.673611</td>\n",
       "      <td>24.015710</td>\n",
       "      <td>5.784</td>\n",
       "      <td>1.150737</td>\n",
       "      <td>21.274886</td>\n",
       "      <td>32.451242</td>\n",
       "      <td>7.189361</td>\n",
       "      <td>61.753805</td>\n",
       "      <td>24.649495</td>\n",
       "      <td>53.141236</td>\n",
       "      <td>9216418.0</td>\n",
       "      <td>Africa</td>\n",
       "      <td>706.157306</td>\n",
       "    </tr>\n",
       "    <tr>\n",
       "      <th>2603</th>\n",
       "      <td>2603</td>\n",
       "      <td>Zimbabwe</td>\n",
       "      <td>1992</td>\n",
       "      <td>7.413793</td>\n",
       "      <td>1.533724</td>\n",
       "      <td>43.120518</td>\n",
       "      <td>778.695133</td>\n",
       "      <td>923.493407</td>\n",
       "      <td>27.227263</td>\n",
       "      <td>4.840</td>\n",
       "      <td>-9.015570</td>\n",
       "      <td>36.485231</td>\n",
       "      <td>40.862069</td>\n",
       "      <td>-14.129659</td>\n",
       "      <td>56.491976</td>\n",
       "      <td>28.485762</td>\n",
       "      <td>51.724135</td>\n",
       "      <td>10704340.0</td>\n",
       "      <td>Africa</td>\n",
       "      <td>693.420786</td>\n",
       "    </tr>\n",
       "    <tr>\n",
       "      <th>2604</th>\n",
       "      <td>2604</td>\n",
       "      <td>Zimbabwe</td>\n",
       "      <td>1997</td>\n",
       "      <td>18.934082</td>\n",
       "      <td>1.194678</td>\n",
       "      <td>63.058320</td>\n",
       "      <td>870.988697</td>\n",
       "      <td>804.508892</td>\n",
       "      <td>37.595273</td>\n",
       "      <td>4.237</td>\n",
       "      <td>2.680594</td>\n",
       "      <td>44.609791</td>\n",
       "      <td>25.554678</td>\n",
       "      <td>-2.879048</td>\n",
       "      <td>46.065902</td>\n",
       "      <td>31.174507</td>\n",
       "      <td>55.511236</td>\n",
       "      <td>11404948.0</td>\n",
       "      <td>Africa</td>\n",
       "      <td>792.449960</td>\n",
       "    </tr>\n",
       "    <tr>\n",
       "      <th>2605</th>\n",
       "      <td>2605</td>\n",
       "      <td>Zimbabwe</td>\n",
       "      <td>2002</td>\n",
       "      <td>14.029007</td>\n",
       "      <td>0.942795</td>\n",
       "      <td>164.559047</td>\n",
       "      <td>827.329873</td>\n",
       "      <td>772.676619</td>\n",
       "      <td>31.834799</td>\n",
       "      <td>4.018</td>\n",
       "      <td>-8.894023</td>\n",
       "      <td>34.972553</td>\n",
       "      <td>NaN</td>\n",
       "      <td>2.712950</td>\n",
       "      <td>40.679146</td>\n",
       "      <td>32.807111</td>\n",
       "      <td>NaN</td>\n",
       "      <td>11926563.0</td>\n",
       "      <td>Africa</td>\n",
       "      <td>672.038623</td>\n",
       "    </tr>\n",
       "    <tr>\n",
       "      <th>2606</th>\n",
       "      <td>2606</td>\n",
       "      <td>Zimbabwe</td>\n",
       "      <td>2007</td>\n",
       "      <td>21.597907</td>\n",
       "      <td>0.743449</td>\n",
       "      <td>NaN</td>\n",
       "      <td>700.642317</td>\n",
       "      <td>725.681049</td>\n",
       "      <td>37.785373</td>\n",
       "      <td>4.022</td>\n",
       "      <td>-3.653327</td>\n",
       "      <td>46.387531</td>\n",
       "      <td>33.074953</td>\n",
       "      <td>0.894887</td>\n",
       "      <td>44.177756</td>\n",
       "      <td>34.374559</td>\n",
       "      <td>45.327139</td>\n",
       "      <td>12311143.0</td>\n",
       "      <td>Africa</td>\n",
       "      <td>469.709298</td>\n",
       "    </tr>\n",
       "  </tbody>\n",
       "</table>\n",
       "<p>2607 rows × 20 columns</p>\n",
       "</div>"
      ],
      "text/plain": [
       "      Unnamed: 0 Country Name  Year  Agriculture, value added (% of GDP)  \\\n",
       "0              0  Afghanistan  1962                                  NaN   \n",
       "1              1  Afghanistan  1967                                  NaN   \n",
       "2              2  Afghanistan  1972                                  NaN   \n",
       "3              3  Afghanistan  1977                                  NaN   \n",
       "4              4  Afghanistan  1982                                  NaN   \n",
       "...          ...          ...   ...                                  ...   \n",
       "2602        2602     Zimbabwe  1987                            14.407528   \n",
       "2603        2603     Zimbabwe  1992                             7.413793   \n",
       "2604        2604     Zimbabwe  1997                            18.934082   \n",
       "2605        2605     Zimbabwe  2002                            14.029007   \n",
       "2606        2606     Zimbabwe  2007                            21.597907   \n",
       "\n",
       "      CO2 emissions (metric tons per capita)  \\\n",
       "0                                   0.073781   \n",
       "1                                   0.123782   \n",
       "2                                   0.130820   \n",
       "3                                   0.183118   \n",
       "4                                   0.165879   \n",
       "...                                      ...   \n",
       "2602                                1.598217   \n",
       "2603                                1.533724   \n",
       "2604                                1.194678   \n",
       "2605                                0.942795   \n",
       "2606                                0.743449   \n",
       "\n",
       "      Domestic credit provided by financial sector (% of GDP)  \\\n",
       "0                                             21.276422         \n",
       "1                                              9.917662         \n",
       "2                                             18.880833         \n",
       "3                                             13.836822         \n",
       "4                                                   NaN         \n",
       "...                                                 ...         \n",
       "2602                                          74.161607         \n",
       "2603                                          43.120518         \n",
       "2604                                          63.058320         \n",
       "2605                                         164.559047         \n",
       "2606                                                NaN         \n",
       "\n",
       "      Electric power consumption (kWh per capita)  \\\n",
       "0                                             NaN   \n",
       "1                                             NaN   \n",
       "2                                             NaN   \n",
       "3                                             NaN   \n",
       "4                                             NaN   \n",
       "...                                           ...   \n",
       "2602                                   878.072691   \n",
       "2603                                   778.695133   \n",
       "2604                                   870.988697   \n",
       "2605                                   827.329873   \n",
       "2606                                   700.642317   \n",
       "\n",
       "      Energy use (kg of oil equivalent per capita)  \\\n",
       "0                                              NaN   \n",
       "1                                              NaN   \n",
       "2                                              NaN   \n",
       "3                                              NaN   \n",
       "4                                              NaN   \n",
       "...                                            ...   \n",
       "2602                                    896.673611   \n",
       "2603                                    923.493407   \n",
       "2604                                    804.508892   \n",
       "2605                                    772.676619   \n",
       "2606                                    725.681049   \n",
       "\n",
       "      Exports of goods and services (% of GDP)  \\\n",
       "0                                     4.878051   \n",
       "1                                     6.772908   \n",
       "2                                    14.763231   \n",
       "3                                    11.662904   \n",
       "4                                          NaN   \n",
       "...                                        ...   \n",
       "2602                                 24.015710   \n",
       "2603                                 27.227263   \n",
       "2604                                 37.595273   \n",
       "2605                                 31.834799   \n",
       "2606                                 37.785373   \n",
       "\n",
       "      Fertility rate, total (births per woman)  GDP growth (annual %)  \\\n",
       "0                                        7.450                    NaN   \n",
       "1                                        7.450                    NaN   \n",
       "2                                        7.450                    NaN   \n",
       "3                                        7.449                    NaN   \n",
       "4                                        7.450                    NaN   \n",
       "...                                        ...                    ...   \n",
       "2602                                     5.784               1.150737   \n",
       "2603                                     4.840              -9.015570   \n",
       "2604                                     4.237               2.680594   \n",
       "2605                                     4.018              -8.894023   \n",
       "2606                                     4.022              -3.653327   \n",
       "\n",
       "      Imports of goods and services (% of GDP)  \\\n",
       "0                                     9.349593   \n",
       "1                                    14.209827   \n",
       "2                                    18.105850   \n",
       "3                                    14.823175   \n",
       "4                                          NaN   \n",
       "...                                        ...   \n",
       "2602                                 21.274886   \n",
       "2603                                 36.485231   \n",
       "2604                                 44.609791   \n",
       "2605                                 34.972553   \n",
       "2606                                 46.387531   \n",
       "\n",
       "      Industry, value added (% of GDP)  Inflation, GDP deflator (annual %)  \\\n",
       "0                                  NaN                                 NaN   \n",
       "1                                  NaN                                 NaN   \n",
       "2                                  NaN                                 NaN   \n",
       "3                                  NaN                                 NaN   \n",
       "4                                  NaN                                 NaN   \n",
       "...                                ...                                 ...   \n",
       "2602                         32.451242                            7.189361   \n",
       "2603                         40.862069                          -14.129659   \n",
       "2604                         25.554678                           -2.879048   \n",
       "2605                               NaN                            2.712950   \n",
       "2606                         33.074953                            0.894887   \n",
       "\n",
       "      Life expectancy at birth, total (years)  \\\n",
       "0                                   33.219902   \n",
       "1                                   35.389415   \n",
       "2                                   37.610146   \n",
       "3                                   40.110146   \n",
       "4                                   43.230732   \n",
       "...                                       ...   \n",
       "2602                                61.753805   \n",
       "2603                                56.491976   \n",
       "2604                                46.065902   \n",
       "2605                                40.679146   \n",
       "2606                                44.177756   \n",
       "\n",
       "      Population density (people per sq. km of land area)  \\\n",
       "0                                             14.312061     \n",
       "1                                             15.881812     \n",
       "2                                             17.947027     \n",
       "3                                             19.998926     \n",
       "4                                             19.402324     \n",
       "...                                                 ...     \n",
       "2602                                          24.649495     \n",
       "2603                                          28.485762     \n",
       "2604                                          31.174507     \n",
       "2605                                          32.807111     \n",
       "2606                                          34.374559     \n",
       "\n",
       "      Services, etc., value added (% of GDP)         pop continent   gdpPercap  \n",
       "0                                        NaN  10267083.0      Asia  853.100710  \n",
       "1                                        NaN  11537966.0      Asia  836.197138  \n",
       "2                                        NaN  13079460.0      Asia  739.981106  \n",
       "3                                        NaN  14880372.0      Asia  786.113360  \n",
       "4                                        NaN  12881816.0      Asia  978.011439  \n",
       "...                                      ...         ...       ...         ...  \n",
       "2602                               53.141236   9216418.0    Africa  706.157306  \n",
       "2603                               51.724135  10704340.0    Africa  693.420786  \n",
       "2604                               55.511236  11404948.0    Africa  792.449960  \n",
       "2605                                     NaN  11926563.0    Africa  672.038623  \n",
       "2606                               45.327139  12311143.0    Africa  469.709298  \n",
       "\n",
       "[2607 rows x 20 columns]"
      ]
     },
     "execution_count": 14,
     "metadata": {},
     "output_type": "execute_result"
    }
   ],
   "source": [
    "# load the file into a pandas dataframe\n",
    "df = pd.read_csv('gapminder_clean.csv')\n",
    "df"
   ]
  },
  {
   "cell_type": "markdown",
   "id": "74bdc5af",
   "metadata": {},
   "source": [
    "#### 2. Filter the data to include only rows where Year is 1962 and then make a scatter plot comparing 'CO2 emissions (metric tons per capita)' and gdpPercap for the filtered data"
   ]
  },
  {
   "cell_type": "code",
   "execution_count": 15,
   "id": "6ab1c3e2",
   "metadata": {},
   "outputs": [
    {
     "data": {
      "text/html": [
       "<div>\n",
       "<style scoped>\n",
       "    .dataframe tbody tr th:only-of-type {\n",
       "        vertical-align: middle;\n",
       "    }\n",
       "\n",
       "    .dataframe tbody tr th {\n",
       "        vertical-align: top;\n",
       "    }\n",
       "\n",
       "    .dataframe thead th {\n",
       "        text-align: right;\n",
       "    }\n",
       "</style>\n",
       "<table border=\"1\" class=\"dataframe\">\n",
       "  <thead>\n",
       "    <tr style=\"text-align: right;\">\n",
       "      <th></th>\n",
       "      <th>Unnamed: 0</th>\n",
       "      <th>Country Name</th>\n",
       "      <th>Year</th>\n",
       "      <th>Agriculture, value added (% of GDP)</th>\n",
       "      <th>CO2 emissions (metric tons per capita)</th>\n",
       "      <th>Domestic credit provided by financial sector (% of GDP)</th>\n",
       "      <th>Electric power consumption (kWh per capita)</th>\n",
       "      <th>Energy use (kg of oil equivalent per capita)</th>\n",
       "      <th>Exports of goods and services (% of GDP)</th>\n",
       "      <th>Fertility rate, total (births per woman)</th>\n",
       "      <th>GDP growth (annual %)</th>\n",
       "      <th>Imports of goods and services (% of GDP)</th>\n",
       "      <th>Industry, value added (% of GDP)</th>\n",
       "      <th>Inflation, GDP deflator (annual %)</th>\n",
       "      <th>Life expectancy at birth, total (years)</th>\n",
       "      <th>Population density (people per sq. km of land area)</th>\n",
       "      <th>Services, etc., value added (% of GDP)</th>\n",
       "      <th>pop</th>\n",
       "      <th>continent</th>\n",
       "      <th>gdpPercap</th>\n",
       "    </tr>\n",
       "  </thead>\n",
       "  <tbody>\n",
       "    <tr>\n",
       "      <th>0</th>\n",
       "      <td>0</td>\n",
       "      <td>Afghanistan</td>\n",
       "      <td>1962</td>\n",
       "      <td>NaN</td>\n",
       "      <td>0.073781</td>\n",
       "      <td>21.276422</td>\n",
       "      <td>NaN</td>\n",
       "      <td>NaN</td>\n",
       "      <td>4.878051</td>\n",
       "      <td>7.450000</td>\n",
       "      <td>NaN</td>\n",
       "      <td>9.349593</td>\n",
       "      <td>NaN</td>\n",
       "      <td>NaN</td>\n",
       "      <td>33.219902</td>\n",
       "      <td>14.312061</td>\n",
       "      <td>NaN</td>\n",
       "      <td>10267083.0</td>\n",
       "      <td>Asia</td>\n",
       "      <td>853.100710</td>\n",
       "    </tr>\n",
       "    <tr>\n",
       "      <th>10</th>\n",
       "      <td>10</td>\n",
       "      <td>Albania</td>\n",
       "      <td>1962</td>\n",
       "      <td>NaN</td>\n",
       "      <td>1.439956</td>\n",
       "      <td>NaN</td>\n",
       "      <td>NaN</td>\n",
       "      <td>NaN</td>\n",
       "      <td>NaN</td>\n",
       "      <td>6.282000</td>\n",
       "      <td>NaN</td>\n",
       "      <td>NaN</td>\n",
       "      <td>NaN</td>\n",
       "      <td>NaN</td>\n",
       "      <td>64.162854</td>\n",
       "      <td>62.456898</td>\n",
       "      <td>NaN</td>\n",
       "      <td>1728137.0</td>\n",
       "      <td>Europe</td>\n",
       "      <td>2312.888958</td>\n",
       "    </tr>\n",
       "    <tr>\n",
       "      <th>20</th>\n",
       "      <td>20</td>\n",
       "      <td>Algeria</td>\n",
       "      <td>1962</td>\n",
       "      <td>NaN</td>\n",
       "      <td>0.484954</td>\n",
       "      <td>NaN</td>\n",
       "      <td>NaN</td>\n",
       "      <td>NaN</td>\n",
       "      <td>19.793873</td>\n",
       "      <td>7.614000</td>\n",
       "      <td>-19.685042</td>\n",
       "      <td>20.818647</td>\n",
       "      <td>NaN</td>\n",
       "      <td>2.351279</td>\n",
       "      <td>47.045000</td>\n",
       "      <td>4.908240</td>\n",
       "      <td>NaN</td>\n",
       "      <td>11000948.0</td>\n",
       "      <td>Africa</td>\n",
       "      <td>2550.816880</td>\n",
       "    </tr>\n",
       "    <tr>\n",
       "      <th>30</th>\n",
       "      <td>30</td>\n",
       "      <td>American Samoa</td>\n",
       "      <td>1962</td>\n",
       "      <td>NaN</td>\n",
       "      <td>NaN</td>\n",
       "      <td>NaN</td>\n",
       "      <td>NaN</td>\n",
       "      <td>NaN</td>\n",
       "      <td>NaN</td>\n",
       "      <td>NaN</td>\n",
       "      <td>NaN</td>\n",
       "      <td>NaN</td>\n",
       "      <td>NaN</td>\n",
       "      <td>NaN</td>\n",
       "      <td>NaN</td>\n",
       "      <td>105.590000</td>\n",
       "      <td>NaN</td>\n",
       "      <td>NaN</td>\n",
       "      <td>NaN</td>\n",
       "      <td>NaN</td>\n",
       "    </tr>\n",
       "    <tr>\n",
       "      <th>40</th>\n",
       "      <td>40</td>\n",
       "      <td>Andorra</td>\n",
       "      <td>1962</td>\n",
       "      <td>NaN</td>\n",
       "      <td>NaN</td>\n",
       "      <td>NaN</td>\n",
       "      <td>NaN</td>\n",
       "      <td>NaN</td>\n",
       "      <td>NaN</td>\n",
       "      <td>NaN</td>\n",
       "      <td>NaN</td>\n",
       "      <td>NaN</td>\n",
       "      <td>NaN</td>\n",
       "      <td>NaN</td>\n",
       "      <td>NaN</td>\n",
       "      <td>32.714894</td>\n",
       "      <td>NaN</td>\n",
       "      <td>NaN</td>\n",
       "      <td>NaN</td>\n",
       "      <td>NaN</td>\n",
       "    </tr>\n",
       "    <tr>\n",
       "      <th>...</th>\n",
       "      <td>...</td>\n",
       "      <td>...</td>\n",
       "      <td>...</td>\n",
       "      <td>...</td>\n",
       "      <td>...</td>\n",
       "      <td>...</td>\n",
       "      <td>...</td>\n",
       "      <td>...</td>\n",
       "      <td>...</td>\n",
       "      <td>...</td>\n",
       "      <td>...</td>\n",
       "      <td>...</td>\n",
       "      <td>...</td>\n",
       "      <td>...</td>\n",
       "      <td>...</td>\n",
       "      <td>...</td>\n",
       "      <td>...</td>\n",
       "      <td>...</td>\n",
       "      <td>...</td>\n",
       "      <td>...</td>\n",
       "    </tr>\n",
       "    <tr>\n",
       "      <th>2553</th>\n",
       "      <td>2553</td>\n",
       "      <td>Virgin Islands</td>\n",
       "      <td>1962</td>\n",
       "      <td>NaN</td>\n",
       "      <td>NaN</td>\n",
       "      <td>NaN</td>\n",
       "      <td>NaN</td>\n",
       "      <td>NaN</td>\n",
       "      <td>NaN</td>\n",
       "      <td>5.679000</td>\n",
       "      <td>NaN</td>\n",
       "      <td>NaN</td>\n",
       "      <td>NaN</td>\n",
       "      <td>NaN</td>\n",
       "      <td>64.462561</td>\n",
       "      <td>103.714286</td>\n",
       "      <td>NaN</td>\n",
       "      <td>NaN</td>\n",
       "      <td>NaN</td>\n",
       "      <td>NaN</td>\n",
       "    </tr>\n",
       "    <tr>\n",
       "      <th>2567</th>\n",
       "      <td>2567</td>\n",
       "      <td>World</td>\n",
       "      <td>1962</td>\n",
       "      <td>NaN</td>\n",
       "      <td>3.134694</td>\n",
       "      <td>75.777409</td>\n",
       "      <td>NaN</td>\n",
       "      <td>NaN</td>\n",
       "      <td>11.651114</td>\n",
       "      <td>5.030386</td>\n",
       "      <td>5.549853</td>\n",
       "      <td>11.916013</td>\n",
       "      <td>NaN</td>\n",
       "      <td>NaN</td>\n",
       "      <td>53.404890</td>\n",
       "      <td>24.120006</td>\n",
       "      <td>NaN</td>\n",
       "      <td>NaN</td>\n",
       "      <td>NaN</td>\n",
       "      <td>NaN</td>\n",
       "    </tr>\n",
       "    <tr>\n",
       "      <th>2577</th>\n",
       "      <td>2577</td>\n",
       "      <td>Yemen, Rep.</td>\n",
       "      <td>1962</td>\n",
       "      <td>NaN</td>\n",
       "      <td>0.728004</td>\n",
       "      <td>NaN</td>\n",
       "      <td>NaN</td>\n",
       "      <td>NaN</td>\n",
       "      <td>NaN</td>\n",
       "      <td>7.437000</td>\n",
       "      <td>NaN</td>\n",
       "      <td>NaN</td>\n",
       "      <td>NaN</td>\n",
       "      <td>NaN</td>\n",
       "      <td>34.739561</td>\n",
       "      <td>10.112857</td>\n",
       "      <td>NaN</td>\n",
       "      <td>NaN</td>\n",
       "      <td>NaN</td>\n",
       "      <td>NaN</td>\n",
       "    </tr>\n",
       "    <tr>\n",
       "      <th>2587</th>\n",
       "      <td>2587</td>\n",
       "      <td>Zambia</td>\n",
       "      <td>1962</td>\n",
       "      <td>NaN</td>\n",
       "      <td>NaN</td>\n",
       "      <td>NaN</td>\n",
       "      <td>NaN</td>\n",
       "      <td>NaN</td>\n",
       "      <td>NaN</td>\n",
       "      <td>7.127000</td>\n",
       "      <td>-2.490840</td>\n",
       "      <td>NaN</td>\n",
       "      <td>NaN</td>\n",
       "      <td>2.091562</td>\n",
       "      <td>45.853659</td>\n",
       "      <td>4.359305</td>\n",
       "      <td>NaN</td>\n",
       "      <td>3421000.0</td>\n",
       "      <td>Africa</td>\n",
       "      <td>1452.725766</td>\n",
       "    </tr>\n",
       "    <tr>\n",
       "      <th>2597</th>\n",
       "      <td>2597</td>\n",
       "      <td>Zimbabwe</td>\n",
       "      <td>1962</td>\n",
       "      <td>NaN</td>\n",
       "      <td>NaN</td>\n",
       "      <td>NaN</td>\n",
       "      <td>NaN</td>\n",
       "      <td>NaN</td>\n",
       "      <td>NaN</td>\n",
       "      <td>7.267000</td>\n",
       "      <td>1.434471</td>\n",
       "      <td>NaN</td>\n",
       "      <td>NaN</td>\n",
       "      <td>0.469618</td>\n",
       "      <td>52.277902</td>\n",
       "      <td>10.356112</td>\n",
       "      <td>NaN</td>\n",
       "      <td>4277736.0</td>\n",
       "      <td>Africa</td>\n",
       "      <td>527.272182</td>\n",
       "    </tr>\n",
       "  </tbody>\n",
       "</table>\n",
       "<p>259 rows × 20 columns</p>\n",
       "</div>"
      ],
      "text/plain": [
       "      Unnamed: 0    Country Name  Year  Agriculture, value added (% of GDP)  \\\n",
       "0              0     Afghanistan  1962                                  NaN   \n",
       "10            10         Albania  1962                                  NaN   \n",
       "20            20         Algeria  1962                                  NaN   \n",
       "30            30  American Samoa  1962                                  NaN   \n",
       "40            40         Andorra  1962                                  NaN   \n",
       "...          ...             ...   ...                                  ...   \n",
       "2553        2553  Virgin Islands  1962                                  NaN   \n",
       "2567        2567           World  1962                                  NaN   \n",
       "2577        2577     Yemen, Rep.  1962                                  NaN   \n",
       "2587        2587          Zambia  1962                                  NaN   \n",
       "2597        2597        Zimbabwe  1962                                  NaN   \n",
       "\n",
       "      CO2 emissions (metric tons per capita)  \\\n",
       "0                                   0.073781   \n",
       "10                                  1.439956   \n",
       "20                                  0.484954   \n",
       "30                                       NaN   \n",
       "40                                       NaN   \n",
       "...                                      ...   \n",
       "2553                                     NaN   \n",
       "2567                                3.134694   \n",
       "2577                                0.728004   \n",
       "2587                                     NaN   \n",
       "2597                                     NaN   \n",
       "\n",
       "      Domestic credit provided by financial sector (% of GDP)  \\\n",
       "0                                             21.276422         \n",
       "10                                                  NaN         \n",
       "20                                                  NaN         \n",
       "30                                                  NaN         \n",
       "40                                                  NaN         \n",
       "...                                                 ...         \n",
       "2553                                                NaN         \n",
       "2567                                          75.777409         \n",
       "2577                                                NaN         \n",
       "2587                                                NaN         \n",
       "2597                                                NaN         \n",
       "\n",
       "      Electric power consumption (kWh per capita)  \\\n",
       "0                                             NaN   \n",
       "10                                            NaN   \n",
       "20                                            NaN   \n",
       "30                                            NaN   \n",
       "40                                            NaN   \n",
       "...                                           ...   \n",
       "2553                                          NaN   \n",
       "2567                                          NaN   \n",
       "2577                                          NaN   \n",
       "2587                                          NaN   \n",
       "2597                                          NaN   \n",
       "\n",
       "      Energy use (kg of oil equivalent per capita)  \\\n",
       "0                                              NaN   \n",
       "10                                             NaN   \n",
       "20                                             NaN   \n",
       "30                                             NaN   \n",
       "40                                             NaN   \n",
       "...                                            ...   \n",
       "2553                                           NaN   \n",
       "2567                                           NaN   \n",
       "2577                                           NaN   \n",
       "2587                                           NaN   \n",
       "2597                                           NaN   \n",
       "\n",
       "      Exports of goods and services (% of GDP)  \\\n",
       "0                                     4.878051   \n",
       "10                                         NaN   \n",
       "20                                   19.793873   \n",
       "30                                         NaN   \n",
       "40                                         NaN   \n",
       "...                                        ...   \n",
       "2553                                       NaN   \n",
       "2567                                 11.651114   \n",
       "2577                                       NaN   \n",
       "2587                                       NaN   \n",
       "2597                                       NaN   \n",
       "\n",
       "      Fertility rate, total (births per woman)  GDP growth (annual %)  \\\n",
       "0                                     7.450000                    NaN   \n",
       "10                                    6.282000                    NaN   \n",
       "20                                    7.614000             -19.685042   \n",
       "30                                         NaN                    NaN   \n",
       "40                                         NaN                    NaN   \n",
       "...                                        ...                    ...   \n",
       "2553                                  5.679000                    NaN   \n",
       "2567                                  5.030386               5.549853   \n",
       "2577                                  7.437000                    NaN   \n",
       "2587                                  7.127000              -2.490840   \n",
       "2597                                  7.267000               1.434471   \n",
       "\n",
       "      Imports of goods and services (% of GDP)  \\\n",
       "0                                     9.349593   \n",
       "10                                         NaN   \n",
       "20                                   20.818647   \n",
       "30                                         NaN   \n",
       "40                                         NaN   \n",
       "...                                        ...   \n",
       "2553                                       NaN   \n",
       "2567                                 11.916013   \n",
       "2577                                       NaN   \n",
       "2587                                       NaN   \n",
       "2597                                       NaN   \n",
       "\n",
       "      Industry, value added (% of GDP)  Inflation, GDP deflator (annual %)  \\\n",
       "0                                  NaN                                 NaN   \n",
       "10                                 NaN                                 NaN   \n",
       "20                                 NaN                            2.351279   \n",
       "30                                 NaN                                 NaN   \n",
       "40                                 NaN                                 NaN   \n",
       "...                                ...                                 ...   \n",
       "2553                               NaN                                 NaN   \n",
       "2567                               NaN                                 NaN   \n",
       "2577                               NaN                                 NaN   \n",
       "2587                               NaN                            2.091562   \n",
       "2597                               NaN                            0.469618   \n",
       "\n",
       "      Life expectancy at birth, total (years)  \\\n",
       "0                                   33.219902   \n",
       "10                                  64.162854   \n",
       "20                                  47.045000   \n",
       "30                                        NaN   \n",
       "40                                        NaN   \n",
       "...                                       ...   \n",
       "2553                                64.462561   \n",
       "2567                                53.404890   \n",
       "2577                                34.739561   \n",
       "2587                                45.853659   \n",
       "2597                                52.277902   \n",
       "\n",
       "      Population density (people per sq. km of land area)  \\\n",
       "0                                             14.312061     \n",
       "10                                            62.456898     \n",
       "20                                             4.908240     \n",
       "30                                           105.590000     \n",
       "40                                            32.714894     \n",
       "...                                                 ...     \n",
       "2553                                         103.714286     \n",
       "2567                                          24.120006     \n",
       "2577                                          10.112857     \n",
       "2587                                           4.359305     \n",
       "2597                                          10.356112     \n",
       "\n",
       "      Services, etc., value added (% of GDP)         pop continent  \\\n",
       "0                                        NaN  10267083.0      Asia   \n",
       "10                                       NaN   1728137.0    Europe   \n",
       "20                                       NaN  11000948.0    Africa   \n",
       "30                                       NaN         NaN       NaN   \n",
       "40                                       NaN         NaN       NaN   \n",
       "...                                      ...         ...       ...   \n",
       "2553                                     NaN         NaN       NaN   \n",
       "2567                                     NaN         NaN       NaN   \n",
       "2577                                     NaN         NaN       NaN   \n",
       "2587                                     NaN   3421000.0    Africa   \n",
       "2597                                     NaN   4277736.0    Africa   \n",
       "\n",
       "        gdpPercap  \n",
       "0      853.100710  \n",
       "10    2312.888958  \n",
       "20    2550.816880  \n",
       "30            NaN  \n",
       "40            NaN  \n",
       "...           ...  \n",
       "2553          NaN  \n",
       "2567          NaN  \n",
       "2577          NaN  \n",
       "2587  1452.725766  \n",
       "2597   527.272182  \n",
       "\n",
       "[259 rows x 20 columns]"
      ]
     },
     "execution_count": 15,
     "metadata": {},
     "output_type": "execute_result"
    }
   ],
   "source": [
    "# filter year by 1962\n",
    "df_1962 = df[df['Year'] == 1962]\n",
    "df_1962"
   ]
  },
  {
   "cell_type": "markdown",
   "id": "7f5aba27",
   "metadata": {},
   "source": [
    "We drop NaN rows between gdpPercap and CO2 emissions (metric tons per capita)"
   ]
  },
  {
   "cell_type": "code",
   "execution_count": 16,
   "id": "e4541ddb",
   "metadata": {},
   "outputs": [
    {
     "data": {
      "text/html": [
       "<div>\n",
       "<style scoped>\n",
       "    .dataframe tbody tr th:only-of-type {\n",
       "        vertical-align: middle;\n",
       "    }\n",
       "\n",
       "    .dataframe tbody tr th {\n",
       "        vertical-align: top;\n",
       "    }\n",
       "\n",
       "    .dataframe thead th {\n",
       "        text-align: right;\n",
       "    }\n",
       "</style>\n",
       "<table border=\"1\" class=\"dataframe\">\n",
       "  <thead>\n",
       "    <tr style=\"text-align: right;\">\n",
       "      <th></th>\n",
       "      <th>CO2 emissions (metric tons per capita)</th>\n",
       "      <th>gdpPercap</th>\n",
       "    </tr>\n",
       "  </thead>\n",
       "  <tbody>\n",
       "    <tr>\n",
       "      <th>0</th>\n",
       "      <td>0.073781</td>\n",
       "      <td>853.100710</td>\n",
       "    </tr>\n",
       "    <tr>\n",
       "      <th>10</th>\n",
       "      <td>1.439956</td>\n",
       "      <td>2312.888958</td>\n",
       "    </tr>\n",
       "    <tr>\n",
       "      <th>20</th>\n",
       "      <td>0.484954</td>\n",
       "      <td>2550.816880</td>\n",
       "    </tr>\n",
       "    <tr>\n",
       "      <th>50</th>\n",
       "      <td>0.216025</td>\n",
       "      <td>4269.276742</td>\n",
       "    </tr>\n",
       "    <tr>\n",
       "      <th>80</th>\n",
       "      <td>2.522392</td>\n",
       "      <td>7133.166023</td>\n",
       "    </tr>\n",
       "    <tr>\n",
       "      <th>...</th>\n",
       "      <td>...</td>\n",
       "      <td>...</td>\n",
       "    </tr>\n",
       "    <tr>\n",
       "      <th>2443</th>\n",
       "      <td>0.059258</td>\n",
       "      <td>767.271740</td>\n",
       "    </tr>\n",
       "    <tr>\n",
       "      <th>2473</th>\n",
       "      <td>11.142928</td>\n",
       "      <td>12477.177070</td>\n",
       "    </tr>\n",
       "    <tr>\n",
       "      <th>2483</th>\n",
       "      <td>16.013937</td>\n",
       "      <td>16173.145860</td>\n",
       "    </tr>\n",
       "    <tr>\n",
       "      <th>2503</th>\n",
       "      <td>1.540657</td>\n",
       "      <td>5603.357717</td>\n",
       "    </tr>\n",
       "    <tr>\n",
       "      <th>2543</th>\n",
       "      <td>0.258760</td>\n",
       "      <td>772.049160</td>\n",
       "    </tr>\n",
       "  </tbody>\n",
       "</table>\n",
       "<p>108 rows × 2 columns</p>\n",
       "</div>"
      ],
      "text/plain": [
       "      CO2 emissions (metric tons per capita)     gdpPercap\n",
       "0                                   0.073781    853.100710\n",
       "10                                  1.439956   2312.888958\n",
       "20                                  0.484954   2550.816880\n",
       "50                                  0.216025   4269.276742\n",
       "80                                  2.522392   7133.166023\n",
       "...                                      ...           ...\n",
       "2443                                0.059258    767.271740\n",
       "2473                               11.142928  12477.177070\n",
       "2483                               16.013937  16173.145860\n",
       "2503                                1.540657   5603.357717\n",
       "2543                                0.258760    772.049160\n",
       "\n",
       "[108 rows x 2 columns]"
      ]
     },
     "execution_count": 16,
     "metadata": {},
     "output_type": "execute_result"
    }
   ],
   "source": [
    "df_1962_co2_gdp = df_1962[['CO2 emissions (metric tons per capita)', 'gdpPercap']]\n",
    "df_1962_co2_gdp = df_1962_co2_gdp.dropna()\n",
    "df_1962_co2_gdp"
   ]
  },
  {
   "cell_type": "markdown",
   "id": "df109b94",
   "metadata": {},
   "source": [
    "Once our data is cleaned, we can make a make a scatter plot comparing 'CO2 emissions (metric tons per capita)' and gdpPercap"
   ]
  },
  {
   "cell_type": "code",
   "execution_count": 17,
   "id": "9e5826a2",
   "metadata": {},
   "outputs": [
    {
     "data": {
      "image/png": "[encoded data removed]",
      "text/plain": [
       "<Figure size 640x480 with 1 Axes>"
      ]
     },
     "metadata": {},
     "output_type": "display_data"
    }
   ],
   "source": [
    "plt.scatter(np.log10(df_1962_co2_gdp['CO2 emissions (metric tons per capita)']), np.log10(df_1962_co2_gdp['gdpPercap']))\n",
    "plt.ylabel('GDP per Capita in log')\n",
    "plt.xlabel('CO2 emissions (metric tons per capita) in log')\n",
    "plt.title('Comparison of GDP per Capita vs CO2 emissions')\n",
    "plt.grid()\n",
    "plt.show()"
   ]
  },
  {
   "cell_type": "markdown",
   "id": "4628689a",
   "metadata": {},
   "source": [
    "The plot is scaled to logarithmic to make the scatter plot look more compact. As we can see in the plot, there is a linear relationship between GDP and CO2 emissions."
   ]
  },
  {
   "cell_type": "markdown",
   "id": "6c6c6d9d",
   "metadata": {},
   "source": [
    "#### 3. On the filtered data, calculate the correlation of 'CO2 emissions (metric tons per capita)' and gdpPercap. What is the correlation and associated p value?"
   ]
  },
  {
   "cell_type": "code",
   "execution_count": 18,
   "id": "ad96a637",
   "metadata": {},
   "outputs": [
    {
     "name": "stdout",
     "output_type": "stream",
     "text": [
      "Pearson correlation of 0.9260816725019472\n",
      "P value of 1.1286792210038754e-46\n"
     ]
    }
   ],
   "source": [
    "corr_1962, p_val = stats.pearsonr(df_1962_co2_gdp['CO2 emissions (metric tons per capita)'], df_1962_co2_gdp['gdpPercap'])\n",
    "print('Pearson correlation of', corr_1962)\n",
    "print('P value of', p_val)"
   ]
  },
  {
   "cell_type": "markdown",
   "id": "e4f9627e",
   "metadata": {},
   "source": [
    "#### 4. On the unfiltered data, answer \"In what year is the correlation between 'CO2 emissions (metric tons per capita)' and gdpPercap the strongest?\" Filter the dataset to that year for the next step"
   ]
  },
  {
   "cell_type": "code",
   "execution_count": 19,
   "id": "701222bb",
   "metadata": {},
   "outputs": [
    {
     "data": {
      "text/html": [
       "<div>\n",
       "<style scoped>\n",
       "    .dataframe tbody tr th:only-of-type {\n",
       "        vertical-align: middle;\n",
       "    }\n",
       "\n",
       "    .dataframe tbody tr th {\n",
       "        vertical-align: top;\n",
       "    }\n",
       "\n",
       "    .dataframe thead th {\n",
       "        text-align: right;\n",
       "    }\n",
       "</style>\n",
       "<table border=\"1\" class=\"dataframe\">\n",
       "  <thead>\n",
       "    <tr style=\"text-align: right;\">\n",
       "      <th></th>\n",
       "      <th>Years</th>\n",
       "      <th>Correlation</th>\n",
       "      <th>P-value</th>\n",
       "    </tr>\n",
       "  </thead>\n",
       "  <tbody>\n",
       "    <tr>\n",
       "      <th>4</th>\n",
       "      <td>1967</td>\n",
       "      <td>0.938792</td>\n",
       "      <td>3.397143e-53</td>\n",
       "    </tr>\n",
       "  </tbody>\n",
       "</table>\n",
       "</div>"
      ],
      "text/plain": [
       "   Years  Correlation       P-value\n",
       "4   1967     0.938792  3.397143e-53"
      ]
     },
     "execution_count": 19,
     "metadata": {},
     "output_type": "execute_result"
    }
   ],
   "source": [
    "years = list(set(df['Year'].to_list()))\n",
    "\n",
    "corrs = []\n",
    "pvals = []\n",
    "for i in years:\n",
    "    filtered_by_year = df[df['Year'] == i][['CO2 emissions (metric tons per capita)', 'gdpPercap']].dropna()\n",
    "    corr, pval = stats.pearsonr(filtered_by_year['CO2 emissions (metric tons per capita)'], filtered_by_year['gdpPercap'])\n",
    "    corrs.append(corr)\n",
    "    pvals.append(pval)\n",
    "\n",
    "df_corr_pval = pd.DataFrame()\n",
    "df_corr_pval['Years']= years\n",
    "df_corr_pval['Correlation']= corrs\n",
    "df_corr_pval['P-value']= pvals\n",
    "\n",
    "# filter by max correlation in the column\n",
    "df_corr_pval[df_corr_pval['Correlation'] == max(df_corr_pval['Correlation'])]"
   ]
  },
  {
   "cell_type": "markdown",
   "id": "928d3137",
   "metadata": {},
   "source": [
    "The highest correlation found between CO2 and GDP is in year **1967**."
   ]
  },
  {
   "cell_type": "markdown",
   "id": "878b155c",
   "metadata": {},
   "source": [
    "#### 5. Using plotly or bokeh, create an interactive scatter plot comparing 'CO2 emissions (metric tons per capita)' and gdpPercap, where the point size is determined by pop (population) and the color is determined by the continent."
   ]
  },
  {
   "cell_type": "code",
   "execution_count": 20,
   "id": "7ffce567",
   "metadata": {},
   "outputs": [
    {
     "data": {
      "text/html": [
       "<div>\n",
       "<style scoped>\n",
       "    .dataframe tbody tr th:only-of-type {\n",
       "        vertical-align: middle;\n",
       "    }\n",
       "\n",
       "    .dataframe tbody tr th {\n",
       "        vertical-align: top;\n",
       "    }\n",
       "\n",
       "    .dataframe thead th {\n",
       "        text-align: right;\n",
       "    }\n",
       "</style>\n",
       "<table border=\"1\" class=\"dataframe\">\n",
       "  <thead>\n",
       "    <tr style=\"text-align: right;\">\n",
       "      <th></th>\n",
       "      <th>CO2 emissions (metric tons per capita)</th>\n",
       "      <th>gdpPercap</th>\n",
       "      <th>continent</th>\n",
       "      <th>pop</th>\n",
       "    </tr>\n",
       "  </thead>\n",
       "  <tbody>\n",
       "    <tr>\n",
       "      <th>1</th>\n",
       "      <td>0.123782</td>\n",
       "      <td>836.197138</td>\n",
       "      <td>Asia</td>\n",
       "      <td>11537966.0</td>\n",
       "    </tr>\n",
       "    <tr>\n",
       "      <th>11</th>\n",
       "      <td>1.363746</td>\n",
       "      <td>2760.196931</td>\n",
       "      <td>Europe</td>\n",
       "      <td>1984060.0</td>\n",
       "    </tr>\n",
       "    <tr>\n",
       "      <th>21</th>\n",
       "      <td>0.632118</td>\n",
       "      <td>3246.991771</td>\n",
       "      <td>Africa</td>\n",
       "      <td>12760499.0</td>\n",
       "    </tr>\n",
       "    <tr>\n",
       "      <th>51</th>\n",
       "      <td>0.166659</td>\n",
       "      <td>5522.776375</td>\n",
       "      <td>Africa</td>\n",
       "      <td>5247469.0</td>\n",
       "    </tr>\n",
       "    <tr>\n",
       "      <th>81</th>\n",
       "      <td>2.858163</td>\n",
       "      <td>8052.953021</td>\n",
       "      <td>Americas</td>\n",
       "      <td>22934225.0</td>\n",
       "    </tr>\n",
       "    <tr>\n",
       "      <th>...</th>\n",
       "      <td>...</td>\n",
       "      <td>...</td>\n",
       "      <td>...</td>\n",
       "      <td>...</td>\n",
       "    </tr>\n",
       "    <tr>\n",
       "      <th>2484</th>\n",
       "      <td>18.598318</td>\n",
       "      <td>19530.365570</td>\n",
       "      <td>Americas</td>\n",
       "      <td>198712000.0</td>\n",
       "    </tr>\n",
       "    <tr>\n",
       "      <th>2504</th>\n",
       "      <td>1.776101</td>\n",
       "      <td>5444.619620</td>\n",
       "      <td>Americas</td>\n",
       "      <td>2748579.0</td>\n",
       "    </tr>\n",
       "    <tr>\n",
       "      <th>2544</th>\n",
       "      <td>0.574906</td>\n",
       "      <td>637.123289</td>\n",
       "      <td>Asia</td>\n",
       "      <td>39463910.0</td>\n",
       "    </tr>\n",
       "    <tr>\n",
       "      <th>2588</th>\n",
       "      <td>1.263628</td>\n",
       "      <td>1777.077318</td>\n",
       "      <td>Africa</td>\n",
       "      <td>3900000.0</td>\n",
       "    </tr>\n",
       "    <tr>\n",
       "      <th>2598</th>\n",
       "      <td>1.122961</td>\n",
       "      <td>569.795071</td>\n",
       "      <td>Africa</td>\n",
       "      <td>4995432.0</td>\n",
       "    </tr>\n",
       "  </tbody>\n",
       "</table>\n",
       "<p>113 rows × 4 columns</p>\n",
       "</div>"
      ],
      "text/plain": [
       "      CO2 emissions (metric tons per capita)     gdpPercap continent  \\\n",
       "1                                   0.123782    836.197138      Asia   \n",
       "11                                  1.363746   2760.196931    Europe   \n",
       "21                                  0.632118   3246.991771    Africa   \n",
       "51                                  0.166659   5522.776375    Africa   \n",
       "81                                  2.858163   8052.953021  Americas   \n",
       "...                                      ...           ...       ...   \n",
       "2484                               18.598318  19530.365570  Americas   \n",
       "2504                                1.776101   5444.619620  Americas   \n",
       "2544                                0.574906    637.123289      Asia   \n",
       "2588                                1.263628   1777.077318    Africa   \n",
       "2598                                1.122961    569.795071    Africa   \n",
       "\n",
       "              pop  \n",
       "1      11537966.0  \n",
       "11      1984060.0  \n",
       "21     12760499.0  \n",
       "51      5247469.0  \n",
       "81     22934225.0  \n",
       "...           ...  \n",
       "2484  198712000.0  \n",
       "2504    2748579.0  \n",
       "2544   39463910.0  \n",
       "2588    3900000.0  \n",
       "2598    4995432.0  \n",
       "\n",
       "[113 rows x 4 columns]"
      ]
     },
     "execution_count": 20,
     "metadata": {},
     "output_type": "execute_result"
    }
   ],
   "source": [
    "df_1967 = df[df['Year'] == 1967]\n",
    "df_1967 = df_1967[['CO2 emissions (metric tons per capita)', 'gdpPercap','continent', 'pop']].dropna()\n",
    "df_1967"
   ]
  },
  {
   "cell_type": "code",
   "execution_count": 21,
   "id": "78a67b8d",
   "metadata": {},
   "outputs": [
    {
     "data": {
      "application/vnd.plotly.v1+json": {
       "config": {
        "plotlyServerURL": "https://plot.ly"
       },
       "data": [
        {
         "hovertemplate": "continent=Asia<br>CO2 emissions (metric tons per capita)=%{x}<br>gdpPercap=%{y}<br>pop=%{marker.size}<extra></extra>",
         "legendgroup": "Asia",
         "marker": {
          "color": "#636efa",
          "size": [
           11537966,
           202182,
           6960067,
           754550000,
           506000000,
           109343000,
           8519282,
           2693585,
           100825279,
           1255058,
           575003,
           2186894,
           1149500,
           25870271,
           11261690,
           714775,
           60641899,
           35356600,
           5618198,
           1977600,
           11737396,
           34024249,
           39463910
          ],
          "sizemode": "area",
          "sizeref": 1886375,
          "symbol": "circle"
         },
         "mode": "markers",
         "name": "Asia",
         "orientation": "v",
         "showlegend": true,
         "type": "scatter",
         "x": [
          0.123782381421,
          5.12101242081,
          0.0624360387486,
          0.574162146975,
          0.331763432432,
          0.23191547809,
          2.05575631533,
          4.93341748634,
          4.86355784562,
          1.0719834839700002,
          43.4283027016,
          1.64225486815,
          1.83477215037,
          0.143519517019,
          0.0188098863912,
          0.205537806177,
          0.402522332305,
          0.555413076261,
          4.90876421118,
          1.54645934466,
          0.25192412202,
          0.360202673298,
          0.574906353177
         ],
         "xaxis": "x",
         "y": [
          836.1971382,
          14804.6727,
          523.4323142,
          612.7056934,
          700.7706107000001,
          762.4317721,
          8931.459811,
          8393.741404,
          9847.788607,
          2741.796252,
          80894.88326,
          6006.983042,
          1226.04113,
          349,
          676.4422254,
          4720.942687,
          942.4082588,
          1814.12743,
          16903.04886,
          4977.41854,
          1135.514326,
          1295.46066,
          637.1232887
         ],
         "yaxis": "y"
        },
        {
         "hovertemplate": "continent=Europe<br>CO2 emissions (metric tons per capita)=%{x}<br>gdpPercap=%{y}<br>pop=%{marker.size}<extra></extra>",
         "legendgroup": "Europe",
         "marker": {
          "color": "#EF553B",
          "size": [
           1984060,
           7376998,
           9556500,
           8310226,
           4838800,
           4605744,
           49569000,
           8716441,
           10223422,
           198676,
           2900100,
           52667100,
           12596822,
           3786019,
           31785378,
           9103000,
           19284814,
           32850275,
           7867931,
           6063000,
           33411317,
           54959000
          ],
          "sizemode": "area",
          "sizeref": 1886375,
          "symbol": "circle"
         },
         "mode": "markers",
         "name": "Europe",
         "orientation": "v",
         "showlegend": true,
         "type": "scatter",
         "x": [
          1.36374630011,
          5.41773672705,
          11.2172567535,
          6.63836916108,
          10.1493005476,
          6.21338658857,
          7.3064221599,
          2.24941398567,
          5.758242269149999,
          7.269387323839999,
          5.65504728764,
          4.43148255688,
          8.47605463669,
          5.1072949704,
          8.105834013680001,
          1.39828723131,
          4.71631855487,
          2.64722755876,
          8.770023402589999,
          5.43460087436,
          1.03313907211,
          10.7841045545
         ],
         "xaxis": "x",
         "y": [
          2760.196931,
          12834.6024,
          13149.04119,
          5577.0028,
          15937.21123,
          10921.63626,
          12999.91766,
          8513.097016,
          9326.64467,
          13319.89568,
          7655.568963,
          10022.40131,
          15363.25136,
          16361.87647,
          6557.152776,
          6361.517993,
          6470.866545,
          7993.512294,
          15258.29697,
          22966.14432,
          2826.3563870000003,
          14142.85089
         ],
         "yaxis": "y"
        },
        {
         "hovertemplate": "continent=Africa<br>CO2 emissions (metric tons per capita)=%{x}<br>gdpPercap=%{y}<br>pop=%{marker.size}<extra></extra>",
         "legendgroup": "Africa",
         "marker": {
          "color": "#00cc96",
          "size": [
           12760499,
           5247469,
           2427334,
           5127935,
           3330989,
           6335506,
           1733638,
           3495967,
           217378,
           4744870,
           127617,
           259864,
           27860297,
           489004,
           8490213,
           3451418,
           601287,
           10191512,
           1279406,
           1759224,
           6334556,
           4147252,
           5212416,
           1230542,
           789309,
           14770296,
           8680909,
           4534062,
           47287752,
           3451079,
           70787,
           3965841,
           2662190,
           3428839,
           20997321,
           12716129,
           420690,
           12607312,
           1735550,
           4786986,
           8900294,
           3900000,
           4995432
          ],
          "sizemode": "area",
          "sizeref": 1886375,
          "symbol": "circle"
         },
         "mode": "markers",
         "name": "Africa",
         "orientation": "v",
         "showlegend": true,
         "type": "scatter",
         "x": [
          0.632118426889,
          0.166658588848,
          0.0523195961148,
          0.0192168474009,
          0.0147354429891,
          0.0729810151442,
          0.0533441408437,
          0.0341490827003,
          0.0856623590204,
          0.324270273072,
          0.669756398256,
          0.0908814105401,
          0.0408827807982,
          1.82744493336,
          0.185683744295,
          0.180529006335,
          0.0707397168393,
          0.266146233454,
          0.465652918101,
          9.94130993774,
          0.138895338975,
          0.086039155676,
          0.0392007077217,
          0.188179057955,
          0.6361795955439999,
          0.3615857767970001,
          0.216165510896,
          0.0318543481335,
          0.244682890582,
          0.0118002652184999,
          0.1620797359809999,
          0.181319271624,
          0.105440879922,
          0.0704483235701,
          6.46564779364,
          0.250771072594,
          0.55253014742,
          0.141879278158,
          0.10672264605,
          0.638870927594,
          0.0944460734361,
          1.2636279603,
          1.12296052314
         ],
         "xaxis": "x",
         "y": [
          3246.991771,
          5522.776375,
          1035.831411,
          794.8265597,
          412.97751360000007,
          1508.453148,
          1136.056615,
          1196.810565,
          1876.029643,
          2052.050473,
          3020.050513,
          915.5960025,
          516.1186438,
          8358.761987,
          1125.69716,
          708.7595409,
          715.5806402000001,
          1056.736457,
          713.6036482999999,
          18772.75169,
          1634.047282,
          495.5147806,
          545.0098873,
          1421.145193,
          2475.387562,
          1711.04477,
          566.6691539,
          1054.384891,
          1014.514104,
          510.9637142,
          1384.840593,
          1612.404632,
          1206.043465,
          1284.7331800000002,
          7114.477970999999,
          1687.997641,
          2613.101665,
          848.2186575,
          1477.59676,
          1932.3601670000005,
          908.9185217,
          1777.077318,
          569.7950712
         ],
         "yaxis": "y"
        },
        {
         "hovertemplate": "continent=Americas<br>CO2 emissions (metric tons per capita)=%{x}<br>gdpPercap=%{y}<br>pop=%{marker.size}<extra></extra>",
         "legendgroup": "Americas",
         "marker": {
          "color": "#ab63fa",
          "size": [
           22934225,
           4040665,
           88049823,
           20819767,
           8858908,
           19764027,
           1588717,
           8139332,
           4049146,
           5432424,
           3232927,
           4690773,
           4318137,
           2500689,
           1861096,
           47995559,
           1865490,
           1405486,
           2287985,
           12132200,
           960155,
           198712000,
           2748579
          ],
          "sizemode": "area",
          "sizeref": 1886375,
          "symbol": "circle"
         },
         "mode": "markers",
         "name": "Americas",
         "orientation": "v",
         "showlegend": true,
         "type": "scatter",
         "x": [
          2.85816254619,
          0.446569679542,
          0.744966530874,
          13.8103545953,
          2.1409901271900003,
          1.21683476874,
          0.517145991263,
          1.90593276713,
          0.380469161164,
          0.465781970972,
          0.342459705043,
          0.397317380131,
          0.0585660070754,
          0.352498584235,
          2.14463346178,
          1.8996986330400003,
          0.493983688604,
          1.21812383412,
          0.213013396786,
          1.1118562074299998,
          5.00989828473,
          18.5983178822,
          1.77610139003
         ],
         "xaxis": "x",
         "y": [
          8052.953020999999,
          2586.886053,
          3429.864357,
          16076.58803,
          5106.654313,
          2678.729839,
          4161.727834,
          5690.268015,
          1653.7230029999998,
          4579.074215,
          4358.595393,
          3242.531147,
          1452.057666,
          2538.269358,
          6124.703450999999,
          5754.733883,
          4643.393534000001,
          4421.009084,
          2299.376311,
          5788.09333,
          5621.368472,
          19530.36557,
          5444.61962
         ],
         "yaxis": "y"
        },
        {
         "hovertemplate": "continent=Oceania<br>CO2 emissions (metric tons per capita)=%{x}<br>gdpPercap=%{y}<br>pop=%{marker.size}<extra></extra>",
         "legendgroup": "Oceania",
         "marker": {
          "color": "#FFA15A",
          "size": [
           11872264,
           2728150
          ],
          "sizemode": "area",
          "sizeref": 1886375,
          "symbol": "circle"
         },
         "mode": "markers",
         "name": "Oceania",
         "orientation": "v",
         "showlegend": true,
         "type": "scatter",
         "x": [
          10.9556247987,
          5.00761352373
         ],
         "xaxis": "x",
         "y": [
          14526.12465,
          14463.918930000002
         ],
         "yaxis": "y"
        }
       ],
       "layout": {
        "legend": {
         "itemsizing": "constant",
         "title": {
          "text": "continent"
         },
         "tracegroupgap": 0
        },
        "template": {
         "data": {
          "bar": [
           {
            "error_x": {
             "color": "#2a3f5f"
            },
            "error_y": {
             "color": "#2a3f5f"
            },
            "marker": {
             "line": {
              "color": "#E5ECF6",
              "width": 0.5
             },
             "pattern": {
              "fillmode": "overlay",
              "size": 10,
              "solidity": 0.2
             }
            },
            "type": "bar"
           }
          ],
          "barpolar": [
           {
            "marker": {
             "line": {
              "color": "#E5ECF6",
              "width": 0.5
             },
             "pattern": {
              "fillmode": "overlay",
              "size": 10,
              "solidity": 0.2
             }
            },
            "type": "barpolar"
           }
          ],
          "carpet": [
           {
            "aaxis": {
             "endlinecolor": "#2a3f5f",
             "gridcolor": "white",
             "linecolor": "white",
             "minorgridcolor": "white",
             "startlinecolor": "#2a3f5f"
            },
            "baxis": {
             "endlinecolor": "#2a3f5f",
             "gridcolor": "white",
             "linecolor": "white",
             "minorgridcolor": "white",
             "startlinecolor": "#2a3f5f"
            },
            "type": "carpet"
           }
          ],
          "choropleth": [
           {
            "colorbar": {
             "outlinewidth": 0,
             "ticks": ""
            },
            "type": "choropleth"
           }
          ],
          "contour": [
           {
            "colorbar": {
             "outlinewidth": 0,
             "ticks": ""
            },
            "colorscale": [
             [
              0,
              "#0d0887"
             ],
             [
              0.1111111111111111,
              "#46039f"
             ],
             [
              0.2222222222222222,
              "#7201a8"
             ],
             [
              0.3333333333333333,
              "#9c179e"
             ],
             [
              0.4444444444444444,
              "#bd3786"
             ],
             [
              0.5555555555555556,
              "#d8576b"
             ],
             [
              0.6666666666666666,
              "#ed7953"
             ],
             [
              0.7777777777777778,
              "#fb9f3a"
             ],
             [
              0.8888888888888888,
              "#fdca26"
             ],
             [
              1,
              "#f0f921"
             ]
            ],
            "type": "contour"
           }
          ],
          "contourcarpet": [
           {
            "colorbar": {
             "outlinewidth": 0,
             "ticks": ""
            },
            "type": "contourcarpet"
           }
          ],
          "heatmap": [
           {
            "colorbar": {
             "outlinewidth": 0,
             "ticks": ""
            },
            "colorscale": [
             [
              0,
              "#0d0887"
             ],
             [
              0.1111111111111111,
              "#46039f"
             ],
             [
              0.2222222222222222,
              "#7201a8"
             ],
             [
              0.3333333333333333,
              "#9c179e"
             ],
             [
              0.4444444444444444,
              "#bd3786"
             ],
             [
              0.5555555555555556,
              "#d8576b"
             ],
             [
              0.6666666666666666,
              "#ed7953"
             ],
             [
              0.7777777777777778,
              "#fb9f3a"
             ],
             [
              0.8888888888888888,
              "#fdca26"
             ],
             [
              1,
              "#f0f921"
             ]
            ],
            "type": "heatmap"
           }
          ],
          "heatmapgl": [
           {
            "colorbar": {
             "outlinewidth": 0,
             "ticks": ""
            },
            "colorscale": [
             [
              0,
              "#0d0887"
             ],
             [
              0.1111111111111111,
              "#46039f"
             ],
             [
              0.2222222222222222,
              "#7201a8"
             ],
             [
              0.3333333333333333,
              "#9c179e"
             ],
             [
              0.4444444444444444,
              "#bd3786"
             ],
             [
              0.5555555555555556,
              "#d8576b"
             ],
             [
              0.6666666666666666,
              "#ed7953"
             ],
             [
              0.7777777777777778,
              "#fb9f3a"
             ],
             [
              0.8888888888888888,
              "#fdca26"
             ],
             [
              1,
              "#f0f921"
             ]
            ],
            "type": "heatmapgl"
           }
          ],
          "histogram": [
           {
            "marker": {
             "pattern": {
              "fillmode": "overlay",
              "size": 10,
              "solidity": 0.2
             }
            },
            "type": "histogram"
           }
          ],
          "histogram2d": [
           {
            "colorbar": {
             "outlinewidth": 0,
             "ticks": ""
            },
            "colorscale": [
             [
              0,
              "#0d0887"
             ],
             [
              0.1111111111111111,
              "#46039f"
             ],
             [
              0.2222222222222222,
              "#7201a8"
             ],
             [
              0.3333333333333333,
              "#9c179e"
             ],
             [
              0.4444444444444444,
              "#bd3786"
             ],
             [
              0.5555555555555556,
              "#d8576b"
             ],
             [
              0.6666666666666666,
              "#ed7953"
             ],
             [
              0.7777777777777778,
              "#fb9f3a"
             ],
             [
              0.8888888888888888,
              "#fdca26"
             ],
             [
              1,
              "#f0f921"
             ]
            ],
            "type": "histogram2d"
           }
          ],
          "histogram2dcontour": [
           {
            "colorbar": {
             "outlinewidth": 0,
             "ticks": ""
            },
            "colorscale": [
             [
              0,
              "#0d0887"
             ],
             [
              0.1111111111111111,
              "#46039f"
             ],
             [
              0.2222222222222222,
              "#7201a8"
             ],
             [
              0.3333333333333333,
              "#9c179e"
             ],
             [
              0.4444444444444444,
              "#bd3786"
             ],
             [
              0.5555555555555556,
              "#d8576b"
             ],
             [
              0.6666666666666666,
              "#ed7953"
             ],
             [
              0.7777777777777778,
              "#fb9f3a"
             ],
             [
              0.8888888888888888,
              "#fdca26"
             ],
             [
              1,
              "#f0f921"
             ]
            ],
            "type": "histogram2dcontour"
           }
          ],
          "mesh3d": [
           {
            "colorbar": {
             "outlinewidth": 0,
             "ticks": ""
            },
            "type": "mesh3d"
           }
          ],
          "parcoords": [
           {
            "line": {
             "colorbar": {
              "outlinewidth": 0,
              "ticks": ""
             }
            },
            "type": "parcoords"
           }
          ],
          "pie": [
           {
            "automargin": true,
            "type": "pie"
           }
          ],
          "scatter": [
           {
            "fillpattern": {
             "fillmode": "overlay",
             "size": 10,
             "solidity": 0.2
            },
            "type": "scatter"
           }
          ],
          "scatter3d": [
           {
            "line": {
             "colorbar": {
              "outlinewidth": 0,
              "ticks": ""
             }
            },
            "marker": {
             "colorbar": {
              "outlinewidth": 0,
              "ticks": ""
             }
            },
            "type": "scatter3d"
           }
          ],
          "scattercarpet": [
           {
            "marker": {
             "colorbar": {
              "outlinewidth": 0,
              "ticks": ""
             }
            },
            "type": "scattercarpet"
           }
          ],
          "scattergeo": [
           {
            "marker": {
             "colorbar": {
              "outlinewidth": 0,
              "ticks": ""
             }
            },
            "type": "scattergeo"
           }
          ],
          "scattergl": [
           {
            "marker": {
             "colorbar": {
              "outlinewidth": 0,
              "ticks": ""
             }
            },
            "type": "scattergl"
           }
          ],
          "scattermapbox": [
           {
            "marker": {
             "colorbar": {
              "outlinewidth": 0,
              "ticks": ""
             }
            },
            "type": "scattermapbox"
           }
          ],
          "scatterpolar": [
           {
            "marker": {
             "colorbar": {
              "outlinewidth": 0,
              "ticks": ""
             }
            },
            "type": "scatterpolar"
           }
          ],
          "scatterpolargl": [
           {
            "marker": {
             "colorbar": {
              "outlinewidth": 0,
              "ticks": ""
             }
            },
            "type": "scatterpolargl"
           }
          ],
          "scatterternary": [
           {
            "marker": {
             "colorbar": {
              "outlinewidth": 0,
              "ticks": ""
             }
            },
            "type": "scatterternary"
           }
          ],
          "surface": [
           {
            "colorbar": {
             "outlinewidth": 0,
             "ticks": ""
            },
            "colorscale": [
             [
              0,
              "#0d0887"
             ],
             [
              0.1111111111111111,
              "#46039f"
             ],
             [
              0.2222222222222222,
              "#7201a8"
             ],
             [
              0.3333333333333333,
              "#9c179e"
             ],
             [
              0.4444444444444444,
              "#bd3786"
             ],
             [
              0.5555555555555556,
              "#d8576b"
             ],
             [
              0.6666666666666666,
              "#ed7953"
             ],
             [
              0.7777777777777778,
              "#fb9f3a"
             ],
             [
              0.8888888888888888,
              "#fdca26"
             ],
             [
              1,
              "#f0f921"
             ]
            ],
            "type": "surface"
           }
          ],
          "table": [
           {
            "cells": {
             "fill": {
              "color": "#EBF0F8"
             },
             "line": {
              "color": "white"
             }
            },
            "header": {
             "fill": {
              "color": "#C8D4E3"
             },
             "line": {
              "color": "white"
             }
            },
            "type": "table"
           }
          ]
         },
         "layout": {
          "annotationdefaults": {
           "arrowcolor": "#2a3f5f",
           "arrowhead": 0,
           "arrowwidth": 1
          },
          "autotypenumbers": "strict",
          "coloraxis": {
           "colorbar": {
            "outlinewidth": 0,
            "ticks": ""
           }
          },
          "colorscale": {
           "diverging": [
            [
             0,
             "#8e0152"
            ],
            [
             0.1,
             "#c51b7d"
            ],
            [
             0.2,
             "#de77ae"
            ],
            [
             0.3,
             "#f1b6da"
            ],
            [
             0.4,
             "#fde0ef"
            ],
            [
             0.5,
             "#f7f7f7"
            ],
            [
             0.6,
             "#e6f5d0"
            ],
            [
             0.7,
             "#b8e186"
            ],
            [
             0.8,
             "#7fbc41"
            ],
            [
             0.9,
             "#4d9221"
            ],
            [
             1,
             "#276419"
            ]
           ],
           "sequential": [
            [
             0,
             "#0d0887"
            ],
            [
             0.1111111111111111,
             "#46039f"
            ],
            [
             0.2222222222222222,
             "#7201a8"
            ],
            [
             0.3333333333333333,
             "#9c179e"
            ],
            [
             0.4444444444444444,
             "#bd3786"
            ],
            [
             0.5555555555555556,
             "#d8576b"
            ],
            [
             0.6666666666666666,
             "#ed7953"
            ],
            [
             0.7777777777777778,
             "#fb9f3a"
            ],
            [
             0.8888888888888888,
             "#fdca26"
            ],
            [
             1,
             "#f0f921"
            ]
           ],
           "sequentialminus": [
            [
             0,
             "#0d0887"
            ],
            [
             0.1111111111111111,
             "#46039f"
            ],
            [
             0.2222222222222222,
             "#7201a8"
            ],
            [
             0.3333333333333333,
             "#9c179e"
            ],
            [
             0.4444444444444444,
             "#bd3786"
            ],
            [
             0.5555555555555556,
             "#d8576b"
            ],
            [
             0.6666666666666666,
             "#ed7953"
            ],
            [
             0.7777777777777778,
             "#fb9f3a"
            ],
            [
             0.8888888888888888,
             "#fdca26"
            ],
            [
             1,
             "#f0f921"
            ]
           ]
          },
          "colorway": [
           "#636efa",
           "#EF553B",
           "#00cc96",
           "#ab63fa",
           "#FFA15A",
           "#19d3f3",
           "#FF6692",
           "#B6E880",
           "#FF97FF",
           "#FECB52"
          ],
          "font": {
           "color": "#2a3f5f"
          },
          "geo": {
           "bgcolor": "white",
           "lakecolor": "white",
           "landcolor": "#E5ECF6",
           "showlakes": true,
           "showland": true,
           "subunitcolor": "white"
          },
          "hoverlabel": {
           "align": "left"
          },
          "hovermode": "closest",
          "mapbox": {
           "style": "light"
          },
          "paper_bgcolor": "white",
          "plot_bgcolor": "#E5ECF6",
          "polar": {
           "angularaxis": {
            "gridcolor": "white",
            "linecolor": "white",
            "ticks": ""
           },
           "bgcolor": "#E5ECF6",
           "radialaxis": {
            "gridcolor": "white",
            "linecolor": "white",
            "ticks": ""
           }
          },
          "scene": {
           "xaxis": {
            "backgroundcolor": "#E5ECF6",
            "gridcolor": "white",
            "gridwidth": 2,
            "linecolor": "white",
            "showbackground": true,
            "ticks": "",
            "zerolinecolor": "white"
           },
           "yaxis": {
            "backgroundcolor": "#E5ECF6",
            "gridcolor": "white",
            "gridwidth": 2,
            "linecolor": "white",
            "showbackground": true,
            "ticks": "",
            "zerolinecolor": "white"
           },
           "zaxis": {
            "backgroundcolor": "#E5ECF6",
            "gridcolor": "white",
            "gridwidth": 2,
            "linecolor": "white",
            "showbackground": true,
            "ticks": "",
            "zerolinecolor": "white"
           }
          },
          "shapedefaults": {
           "line": {
            "color": "#2a3f5f"
           }
          },
          "ternary": {
           "aaxis": {
            "gridcolor": "white",
            "linecolor": "white",
            "ticks": ""
           },
           "baxis": {
            "gridcolor": "white",
            "linecolor": "white",
            "ticks": ""
           },
           "bgcolor": "#E5ECF6",
           "caxis": {
            "gridcolor": "white",
            "linecolor": "white",
            "ticks": ""
           }
          },
          "title": {
           "x": 0.05
          },
          "xaxis": {
           "automargin": true,
           "gridcolor": "white",
           "linecolor": "white",
           "ticks": "",
           "title": {
            "standoff": 15
           },
           "zerolinecolor": "white",
           "zerolinewidth": 2
          },
          "yaxis": {
           "automargin": true,
           "gridcolor": "white",
           "linecolor": "white",
           "ticks": "",
           "title": {
            "standoff": 15
           },
           "zerolinecolor": "white",
           "zerolinewidth": 2
          }
         }
        },
        "title": {
         "text": "Comparison of CO2 emissions (metric tons per capita) and GDP per Capita across Continents"
        },
        "xaxis": {
         "anchor": "y",
         "domain": [
          0,
          1
         ],
         "title": {
          "text": "CO2 emissions (metric tons per capita)"
         }
        },
        "yaxis": {
         "anchor": "x",
         "domain": [
          0,
          1
         ],
         "title": {
          "text": "gdpPercap"
         }
        }
       }
      },
      "text/html": [
       "<div>                            <div id=\"18e940a1-4b74-41b3-8caf-fc5aa1414368\" class=\"plotly-graph-div\" style=\"height:525px; width:100%;\"></div>            <script type=\"text/javascript\">                require([\"plotly\"], function(Plotly) {                    window.PLOTLYENV=window.PLOTLYENV || {};                                    if (document.getElementById(\"18e940a1-4b74-41b3-8caf-fc5aa1414368\")) {                    Plotly.newPlot(                        \"18e940a1-4b74-41b3-8caf-fc5aa1414368\",                        [{\"hovertemplate\":\"continent=Asia<br>CO2 emissions (metric tons per capita)=%{x}<br>gdpPercap=%{y}<br>pop=%{marker.size}<extra></extra>\",\"legendgroup\":\"Asia\",\"marker\":{\"color\":\"#636efa\",\"size\":[11537966.0,202182.0,6960067.0,754550000.0,506000000.0,109343000.0,8519282.0,2693585.0,100825279.0,1255058.0,575003.0,2186894.0,1149500.0,25870271.0,11261690.0,714775.0,60641899.0,35356600.0,5618198.0,1977600.0,11737396.0,34024249.0,39463910.0],\"sizemode\":\"area\",\"sizeref\":1886375.0,\"symbol\":\"circle\"},\"mode\":\"markers\",\"name\":\"Asia\",\"orientation\":\"v\",\"showlegend\":true,\"x\":[0.123782381421,5.12101242081,0.0624360387486,0.574162146975,0.331763432432,0.23191547809,2.05575631533,4.93341748634,4.86355784562,1.0719834839700002,43.4283027016,1.64225486815,1.83477215037,0.143519517019,0.0188098863912,0.205537806177,0.402522332305,0.555413076261,4.90876421118,1.54645934466,0.25192412202,0.360202673298,0.574906353177],\"xaxis\":\"x\",\"y\":[836.1971382,14804.6727,523.4323142,612.7056934,700.7706107000001,762.4317721,8931.459811,8393.741404,9847.788607,2741.796252,80894.88326,6006.983042,1226.04113,349.0,676.4422254,4720.942687,942.4082588,1814.12743,16903.04886,4977.41854,1135.514326,1295.46066,637.1232887],\"yaxis\":\"y\",\"type\":\"scatter\"},{\"hovertemplate\":\"continent=Europe<br>CO2 emissions (metric tons per capita)=%{x}<br>gdpPercap=%{y}<br>pop=%{marker.size}<extra></extra>\",\"legendgroup\":\"Europe\",\"marker\":{\"color\":\"#EF553B\",\"size\":[1984060.0,7376998.0,9556500.0,8310226.0,4838800.0,4605744.0,49569000.0,8716441.0,10223422.0,198676.0,2900100.0,52667100.0,12596822.0,3786019.0,31785378.0,9103000.0,19284814.0,32850275.0,7867931.0,6063000.0,33411317.0,54959000.0],\"sizemode\":\"area\",\"sizeref\":1886375.0,\"symbol\":\"circle\"},\"mode\":\"markers\",\"name\":\"Europe\",\"orientation\":\"v\",\"showlegend\":true,\"x\":[1.36374630011,5.41773672705,11.2172567535,6.63836916108,10.1493005476,6.21338658857,7.3064221599,2.24941398567,5.758242269149999,7.269387323839999,5.65504728764,4.43148255688,8.47605463669,5.1072949704,8.105834013680001,1.39828723131,4.71631855487,2.64722755876,8.770023402589999,5.43460087436,1.03313907211,10.7841045545],\"xaxis\":\"x\",\"y\":[2760.196931,12834.6024,13149.04119,5577.0028,15937.21123,10921.63626,12999.91766,8513.097016,9326.64467,13319.89568,7655.568963,10022.40131,15363.25136,16361.87647,6557.152776,6361.517993,6470.866545,7993.512294,15258.29697,22966.14432,2826.3563870000003,14142.85089],\"yaxis\":\"y\",\"type\":\"scatter\"},{\"hovertemplate\":\"continent=Africa<br>CO2 emissions (metric tons per capita)=%{x}<br>gdpPercap=%{y}<br>pop=%{marker.size}<extra></extra>\",\"legendgroup\":\"Africa\",\"marker\":{\"color\":\"#00cc96\",\"size\":[12760499.0,5247469.0,2427334.0,5127935.0,3330989.0,6335506.0,1733638.0,3495967.0,217378.0,4744870.0,127617.0,259864.0,27860297.0,489004.0,8490213.0,3451418.0,601287.0,10191512.0,1279406.0,1759224.0,6334556.0,4147252.0,5212416.0,1230542.0,789309.0,14770296.0,8680909.0,4534062.0,47287752.0,3451079.0,70787.0,3965841.0,2662190.0,3428839.0,20997321.0,12716129.0,420690.0,12607312.0,1735550.0,4786986.0,8900294.0,3900000.0,4995432.0],\"sizemode\":\"area\",\"sizeref\":1886375.0,\"symbol\":\"circle\"},\"mode\":\"markers\",\"name\":\"Africa\",\"orientation\":\"v\",\"showlegend\":true,\"x\":[0.632118426889,0.166658588848,0.0523195961148,0.0192168474009,0.0147354429891,0.0729810151442,0.0533441408437,0.0341490827003,0.0856623590204,0.324270273072,0.669756398256,0.0908814105401,0.0408827807982,1.82744493336,0.185683744295,0.180529006335,0.0707397168393,0.266146233454,0.465652918101,9.94130993774,0.138895338975,0.086039155676,0.0392007077217,0.188179057955,0.6361795955439999,0.3615857767970001,0.216165510896,0.0318543481335,0.244682890582,0.0118002652184999,0.1620797359809999,0.181319271624,0.105440879922,0.0704483235701,6.46564779364,0.250771072594,0.55253014742,0.141879278158,0.10672264605,0.638870927594,0.0944460734361,1.2636279603,1.12296052314],\"xaxis\":\"x\",\"y\":[3246.991771,5522.776375,1035.831411,794.8265597,412.97751360000007,1508.453148,1136.056615,1196.810565,1876.029643,2052.050473,3020.050513,915.5960025,516.1186438,8358.761987,1125.69716,708.7595409,715.5806402000001,1056.736457,713.6036482999999,18772.75169,1634.047282,495.5147806,545.0098873,1421.145193,2475.387562,1711.04477,566.6691539,1054.384891,1014.514104,510.9637142,1384.840593,1612.404632,1206.043465,1284.7331800000002,7114.477970999999,1687.997641,2613.101665,848.2186575,1477.59676,1932.3601670000005,908.9185217,1777.077318,569.7950712],\"yaxis\":\"y\",\"type\":\"scatter\"},{\"hovertemplate\":\"continent=Americas<br>CO2 emissions (metric tons per capita)=%{x}<br>gdpPercap=%{y}<br>pop=%{marker.size}<extra></extra>\",\"legendgroup\":\"Americas\",\"marker\":{\"color\":\"#ab63fa\",\"size\":[22934225.0,4040665.0,88049823.0,20819767.0,8858908.0,19764027.0,1588717.0,8139332.0,4049146.0,5432424.0,3232927.0,4690773.0,4318137.0,2500689.0,1861096.0,47995559.0,1865490.0,1405486.0,2287985.0,12132200.0,960155.0,198712000.0,2748579.0],\"sizemode\":\"area\",\"sizeref\":1886375.0,\"symbol\":\"circle\"},\"mode\":\"markers\",\"name\":\"Americas\",\"orientation\":\"v\",\"showlegend\":true,\"x\":[2.85816254619,0.446569679542,0.744966530874,13.8103545953,2.1409901271900003,1.21683476874,0.517145991263,1.90593276713,0.380469161164,0.465781970972,0.342459705043,0.397317380131,0.0585660070754,0.352498584235,2.14463346178,1.8996986330400003,0.493983688604,1.21812383412,0.213013396786,1.1118562074299998,5.00989828473,18.5983178822,1.77610139003],\"xaxis\":\"x\",\"y\":[8052.953020999999,2586.886053,3429.864357,16076.58803,5106.654313,2678.729839,4161.727834,5690.268015,1653.7230029999998,4579.074215,4358.595393,3242.531147,1452.057666,2538.269358,6124.703450999999,5754.733883,4643.393534000001,4421.009084,2299.376311,5788.09333,5621.368472,19530.36557,5444.61962],\"yaxis\":\"y\",\"type\":\"scatter\"},{\"hovertemplate\":\"continent=Oceania<br>CO2 emissions (metric tons per capita)=%{x}<br>gdpPercap=%{y}<br>pop=%{marker.size}<extra></extra>\",\"legendgroup\":\"Oceania\",\"marker\":{\"color\":\"#FFA15A\",\"size\":[11872264.0,2728150.0],\"sizemode\":\"area\",\"sizeref\":1886375.0,\"symbol\":\"circle\"},\"mode\":\"markers\",\"name\":\"Oceania\",\"orientation\":\"v\",\"showlegend\":true,\"x\":[10.9556247987,5.00761352373],\"xaxis\":\"x\",\"y\":[14526.12465,14463.918930000002],\"yaxis\":\"y\",\"type\":\"scatter\"}],                        {\"template\":{\"data\":{\"histogram2dcontour\":[{\"type\":\"histogram2dcontour\",\"colorbar\":{\"outlinewidth\":0,\"ticks\":\"\"},\"colorscale\":[[0.0,\"#0d0887\"],[0.1111111111111111,\"#46039f\"],[0.2222222222222222,\"#7201a8\"],[0.3333333333333333,\"#9c179e\"],[0.4444444444444444,\"#bd3786\"],[0.5555555555555556,\"#d8576b\"],[0.6666666666666666,\"#ed7953\"],[0.7777777777777778,\"#fb9f3a\"],[0.8888888888888888,\"#fdca26\"],[1.0,\"#f0f921\"]]}],\"choropleth\":[{\"type\":\"choropleth\",\"colorbar\":{\"outlinewidth\":0,\"ticks\":\"\"}}],\"histogram2d\":[{\"type\":\"histogram2d\",\"colorbar\":{\"outlinewidth\":0,\"ticks\":\"\"},\"colorscale\":[[0.0,\"#0d0887\"],[0.1111111111111111,\"#46039f\"],[0.2222222222222222,\"#7201a8\"],[0.3333333333333333,\"#9c179e\"],[0.4444444444444444,\"#bd3786\"],[0.5555555555555556,\"#d8576b\"],[0.6666666666666666,\"#ed7953\"],[0.7777777777777778,\"#fb9f3a\"],[0.8888888888888888,\"#fdca26\"],[1.0,\"#f0f921\"]]}],\"heatmap\":[{\"type\":\"heatmap\",\"colorbar\":{\"outlinewidth\":0,\"ticks\":\"\"},\"colorscale\":[[0.0,\"#0d0887\"],[0.1111111111111111,\"#46039f\"],[0.2222222222222222,\"#7201a8\"],[0.3333333333333333,\"#9c179e\"],[0.4444444444444444,\"#bd3786\"],[0.5555555555555556,\"#d8576b\"],[0.6666666666666666,\"#ed7953\"],[0.7777777777777778,\"#fb9f3a\"],[0.8888888888888888,\"#fdca26\"],[1.0,\"#f0f921\"]]}],\"heatmapgl\":[{\"type\":\"heatmapgl\",\"colorbar\":{\"outlinewidth\":0,\"ticks\":\"\"},\"colorscale\":[[0.0,\"#0d0887\"],[0.1111111111111111,\"#46039f\"],[0.2222222222222222,\"#7201a8\"],[0.3333333333333333,\"#9c179e\"],[0.4444444444444444,\"#bd3786\"],[0.5555555555555556,\"#d8576b\"],[0.6666666666666666,\"#ed7953\"],[0.7777777777777778,\"#fb9f3a\"],[0.8888888888888888,\"#fdca26\"],[1.0,\"#f0f921\"]]}],\"contourcarpet\":[{\"type\":\"contourcarpet\",\"colorbar\":{\"outlinewidth\":0,\"ticks\":\"\"}}],\"contour\":[{\"type\":\"contour\",\"colorbar\":{\"outlinewidth\":0,\"ticks\":\"\"},\"colorscale\":[[0.0,\"#0d0887\"],[0.1111111111111111,\"#46039f\"],[0.2222222222222222,\"#7201a8\"],[0.3333333333333333,\"#9c179e\"],[0.4444444444444444,\"#bd3786\"],[0.5555555555555556,\"#d8576b\"],[0.6666666666666666,\"#ed7953\"],[0.7777777777777778,\"#fb9f3a\"],[0.8888888888888888,\"#fdca26\"],[1.0,\"#f0f921\"]]}],\"surface\":[{\"type\":\"surface\",\"colorbar\":{\"outlinewidth\":0,\"ticks\":\"\"},\"colorscale\":[[0.0,\"#0d0887\"],[0.1111111111111111,\"#46039f\"],[0.2222222222222222,\"#7201a8\"],[0.3333333333333333,\"#9c179e\"],[0.4444444444444444,\"#bd3786\"],[0.5555555555555556,\"#d8576b\"],[0.6666666666666666,\"#ed7953\"],[0.7777777777777778,\"#fb9f3a\"],[0.8888888888888888,\"#fdca26\"],[1.0,\"#f0f921\"]]}],\"mesh3d\":[{\"type\":\"mesh3d\",\"colorbar\":{\"outlinewidth\":0,\"ticks\":\"\"}}],\"scatter\":[{\"fillpattern\":{\"fillmode\":\"overlay\",\"size\":10,\"solidity\":0.2},\"type\":\"scatter\"}],\"parcoords\":[{\"type\":\"parcoords\",\"line\":{\"colorbar\":{\"outlinewidth\":0,\"ticks\":\"\"}}}],\"scatterpolargl\":[{\"type\":\"scatterpolargl\",\"marker\":{\"colorbar\":{\"outlinewidth\":0,\"ticks\":\"\"}}}],\"bar\":[{\"error_x\":{\"color\":\"#2a3f5f\"},\"error_y\":{\"color\":\"#2a3f5f\"},\"marker\":{\"line\":{\"color\":\"#E5ECF6\",\"width\":0.5},\"pattern\":{\"fillmode\":\"overlay\",\"size\":10,\"solidity\":0.2}},\"type\":\"bar\"}],\"scattergeo\":[{\"type\":\"scattergeo\",\"marker\":{\"colorbar\":{\"outlinewidth\":0,\"ticks\":\"\"}}}],\"scatterpolar\":[{\"type\":\"scatterpolar\",\"marker\":{\"colorbar\":{\"outlinewidth\":0,\"ticks\":\"\"}}}],\"histogram\":[{\"marker\":{\"pattern\":{\"fillmode\":\"overlay\",\"size\":10,\"solidity\":0.2}},\"type\":\"histogram\"}],\"scattergl\":[{\"type\":\"scattergl\",\"marker\":{\"colorbar\":{\"outlinewidth\":0,\"ticks\":\"\"}}}],\"scatter3d\":[{\"type\":\"scatter3d\",\"line\":{\"colorbar\":{\"outlinewidth\":0,\"ticks\":\"\"}},\"marker\":{\"colorbar\":{\"outlinewidth\":0,\"ticks\":\"\"}}}],\"scattermapbox\":[{\"type\":\"scattermapbox\",\"marker\":{\"colorbar\":{\"outlinewidth\":0,\"ticks\":\"\"}}}],\"scatterternary\":[{\"type\":\"scatterternary\",\"marker\":{\"colorbar\":{\"outlinewidth\":0,\"ticks\":\"\"}}}],\"scattercarpet\":[{\"type\":\"scattercarpet\",\"marker\":{\"colorbar\":{\"outlinewidth\":0,\"ticks\":\"\"}}}],\"carpet\":[{\"aaxis\":{\"endlinecolor\":\"#2a3f5f\",\"gridcolor\":\"white\",\"linecolor\":\"white\",\"minorgridcolor\":\"white\",\"startlinecolor\":\"#2a3f5f\"},\"baxis\":{\"endlinecolor\":\"#2a3f5f\",\"gridcolor\":\"white\",\"linecolor\":\"white\",\"minorgridcolor\":\"white\",\"startlinecolor\":\"#2a3f5f\"},\"type\":\"carpet\"}],\"table\":[{\"cells\":{\"fill\":{\"color\":\"#EBF0F8\"},\"line\":{\"color\":\"white\"}},\"header\":{\"fill\":{\"color\":\"#C8D4E3\"},\"line\":{\"color\":\"white\"}},\"type\":\"table\"}],\"barpolar\":[{\"marker\":{\"line\":{\"color\":\"#E5ECF6\",\"width\":0.5},\"pattern\":{\"fillmode\":\"overlay\",\"size\":10,\"solidity\":0.2}},\"type\":\"barpolar\"}],\"pie\":[{\"automargin\":true,\"type\":\"pie\"}]},\"layout\":{\"autotypenumbers\":\"strict\",\"colorway\":[\"#636efa\",\"#EF553B\",\"#00cc96\",\"#ab63fa\",\"#FFA15A\",\"#19d3f3\",\"#FF6692\",\"#B6E880\",\"#FF97FF\",\"#FECB52\"],\"font\":{\"color\":\"#2a3f5f\"},\"hovermode\":\"closest\",\"hoverlabel\":{\"align\":\"left\"},\"paper_bgcolor\":\"white\",\"plot_bgcolor\":\"#E5ECF6\",\"polar\":{\"bgcolor\":\"#E5ECF6\",\"angularaxis\":{\"gridcolor\":\"white\",\"linecolor\":\"white\",\"ticks\":\"\"},\"radialaxis\":{\"gridcolor\":\"white\",\"linecolor\":\"white\",\"ticks\":\"\"}},\"ternary\":{\"bgcolor\":\"#E5ECF6\",\"aaxis\":{\"gridcolor\":\"white\",\"linecolor\":\"white\",\"ticks\":\"\"},\"baxis\":{\"gridcolor\":\"white\",\"linecolor\":\"white\",\"ticks\":\"\"},\"caxis\":{\"gridcolor\":\"white\",\"linecolor\":\"white\",\"ticks\":\"\"}},\"coloraxis\":{\"colorbar\":{\"outlinewidth\":0,\"ticks\":\"\"}},\"colorscale\":{\"sequential\":[[0.0,\"#0d0887\"],[0.1111111111111111,\"#46039f\"],[0.2222222222222222,\"#7201a8\"],[0.3333333333333333,\"#9c179e\"],[0.4444444444444444,\"#bd3786\"],[0.5555555555555556,\"#d8576b\"],[0.6666666666666666,\"#ed7953\"],[0.7777777777777778,\"#fb9f3a\"],[0.8888888888888888,\"#fdca26\"],[1.0,\"#f0f921\"]],\"sequentialminus\":[[0.0,\"#0d0887\"],[0.1111111111111111,\"#46039f\"],[0.2222222222222222,\"#7201a8\"],[0.3333333333333333,\"#9c179e\"],[0.4444444444444444,\"#bd3786\"],[0.5555555555555556,\"#d8576b\"],[0.6666666666666666,\"#ed7953\"],[0.7777777777777778,\"#fb9f3a\"],[0.8888888888888888,\"#fdca26\"],[1.0,\"#f0f921\"]],\"diverging\":[[0,\"#8e0152\"],[0.1,\"#c51b7d\"],[0.2,\"#de77ae\"],[0.3,\"#f1b6da\"],[0.4,\"#fde0ef\"],[0.5,\"#f7f7f7\"],[0.6,\"#e6f5d0\"],[0.7,\"#b8e186\"],[0.8,\"#7fbc41\"],[0.9,\"#4d9221\"],[1,\"#276419\"]]},\"xaxis\":{\"gridcolor\":\"white\",\"linecolor\":\"white\",\"ticks\":\"\",\"title\":{\"standoff\":15},\"zerolinecolor\":\"white\",\"automargin\":true,\"zerolinewidth\":2},\"yaxis\":{\"gridcolor\":\"white\",\"linecolor\":\"white\",\"ticks\":\"\",\"title\":{\"standoff\":15},\"zerolinecolor\":\"white\",\"automargin\":true,\"zerolinewidth\":2},\"scene\":{\"xaxis\":{\"backgroundcolor\":\"#E5ECF6\",\"gridcolor\":\"white\",\"linecolor\":\"white\",\"showbackground\":true,\"ticks\":\"\",\"zerolinecolor\":\"white\",\"gridwidth\":2},\"yaxis\":{\"backgroundcolor\":\"#E5ECF6\",\"gridcolor\":\"white\",\"linecolor\":\"white\",\"showbackground\":true,\"ticks\":\"\",\"zerolinecolor\":\"white\",\"gridwidth\":2},\"zaxis\":{\"backgroundcolor\":\"#E5ECF6\",\"gridcolor\":\"white\",\"linecolor\":\"white\",\"showbackground\":true,\"ticks\":\"\",\"zerolinecolor\":\"white\",\"gridwidth\":2}},\"shapedefaults\":{\"line\":{\"color\":\"#2a3f5f\"}},\"annotationdefaults\":{\"arrowcolor\":\"#2a3f5f\",\"arrowhead\":0,\"arrowwidth\":1},\"geo\":{\"bgcolor\":\"white\",\"landcolor\":\"#E5ECF6\",\"subunitcolor\":\"white\",\"showland\":true,\"showlakes\":true,\"lakecolor\":\"white\"},\"title\":{\"x\":0.05},\"mapbox\":{\"style\":\"light\"}}},\"xaxis\":{\"anchor\":\"y\",\"domain\":[0.0,1.0],\"title\":{\"text\":\"CO2 emissions (metric tons per capita)\"}},\"yaxis\":{\"anchor\":\"x\",\"domain\":[0.0,1.0],\"title\":{\"text\":\"gdpPercap\"}},\"legend\":{\"title\":{\"text\":\"continent\"},\"tracegroupgap\":0,\"itemsizing\":\"constant\"},\"title\":{\"text\":\"Comparison of CO2 emissions (metric tons per capita) and GDP per Capita across Continents\"}},                        {\"responsive\": true}                    ).then(function(){\n",
       "                            \n",
       "var gd = document.getElementById('18e940a1-4b74-41b3-8caf-fc5aa1414368');\n",
       "var x = new MutationObserver(function (mutations, observer) {{\n",
       "        var display = window.getComputedStyle(gd).display;\n",
       "        if (!display || display === 'none') {{\n",
       "            console.log([gd, 'removed!']);\n",
       "            Plotly.purge(gd);\n",
       "            observer.disconnect();\n",
       "        }}\n",
       "}});\n",
       "\n",
       "// Listen for the removal of the full notebook cells\n",
       "var notebookContainer = gd.closest('#notebook-container');\n",
       "if (notebookContainer) {{\n",
       "    x.observe(notebookContainer, {childList: true});\n",
       "}}\n",
       "\n",
       "// Listen for the clearing of the current output cell\n",
       "var outputEl = gd.closest('.output');\n",
       "if (outputEl) {{\n",
       "    x.observe(outputEl, {childList: true});\n",
       "}}\n",
       "\n",
       "                        })                };                });            </script>        </div>"
      ]
     },
     "metadata": {},
     "output_type": "display_data"
    }
   ],
   "source": [
    "# plot\n",
    "fig = px.scatter(df_1967, x=\"CO2 emissions (metric tons per capita)\", y=\"gdpPercap\", color='continent', title='Comparison of CO2 emissions (metric tons per capita) and GDP per Capita across Continents' ,size='pop')\n",
    "fig.show()"
   ]
  },
  {
   "cell_type": "markdown",
   "id": "67cb8b83",
   "metadata": {},
   "source": [
    "## Part 2: Questions"
   ]
  },
  {
   "cell_type": "markdown",
   "id": "b5dd564e",
   "metadata": {},
   "source": [
    "### 1. What is the relationship between continent and 'Energy use (kg of oil equivalent per capita)'? (Stats test needed)"
   ]
  },
  {
   "cell_type": "markdown",
   "id": "d2206361",
   "metadata": {},
   "source": [
    "Two variables are being compared here - one is categorical (continents) while the other is continuous (energy use). The predictor variable here is the continent and the outcome is the energy use. Given we are comparing multiple groups with each other, we are inclined to use the one-way ANOVA test. However, we need to ensure that the required parametric assumptions are satisfied in order to correctly use a statistical test. "
   ]
  },
  {
   "cell_type": "markdown",
   "id": "a55c5298",
   "metadata": {},
   "source": [
    "We start with cleaning our dataset by dropping the NaN values."
   ]
  },
  {
   "cell_type": "code",
   "execution_count": 10,
   "id": "cffc2081",
   "metadata": {},
   "outputs": [
    {
     "data": {
      "text/html": [
       "<div>\n",
       "<style scoped>\n",
       "    .dataframe tbody tr th:only-of-type {\n",
       "        vertical-align: middle;\n",
       "    }\n",
       "\n",
       "    .dataframe tbody tr th {\n",
       "        vertical-align: top;\n",
       "    }\n",
       "\n",
       "    .dataframe thead th {\n",
       "        text-align: right;\n",
       "    }\n",
       "</style>\n",
       "<table border=\"1\" class=\"dataframe\">\n",
       "  <thead>\n",
       "    <tr style=\"text-align: right;\">\n",
       "      <th></th>\n",
       "      <th>continent</th>\n",
       "      <th>Energy use (kg of oil equivalent per capita)</th>\n",
       "    </tr>\n",
       "  </thead>\n",
       "  <tbody>\n",
       "    <tr>\n",
       "      <th>12</th>\n",
       "      <td>Europe</td>\n",
       "      <td>865.592481</td>\n",
       "    </tr>\n",
       "    <tr>\n",
       "      <th>13</th>\n",
       "      <td>Europe</td>\n",
       "      <td>923.728868</td>\n",
       "    </tr>\n",
       "    <tr>\n",
       "      <th>14</th>\n",
       "      <td>Europe</td>\n",
       "      <td>966.683284</td>\n",
       "    </tr>\n",
       "    <tr>\n",
       "      <th>15</th>\n",
       "      <td>Europe</td>\n",
       "      <td>921.893044</td>\n",
       "    </tr>\n",
       "    <tr>\n",
       "      <th>16</th>\n",
       "      <td>Europe</td>\n",
       "      <td>418.286630</td>\n",
       "    </tr>\n",
       "    <tr>\n",
       "      <th>...</th>\n",
       "      <td>...</td>\n",
       "      <td>...</td>\n",
       "    </tr>\n",
       "    <tr>\n",
       "      <th>2602</th>\n",
       "      <td>Africa</td>\n",
       "      <td>896.673611</td>\n",
       "    </tr>\n",
       "    <tr>\n",
       "      <th>2603</th>\n",
       "      <td>Africa</td>\n",
       "      <td>923.493407</td>\n",
       "    </tr>\n",
       "    <tr>\n",
       "      <th>2604</th>\n",
       "      <td>Africa</td>\n",
       "      <td>804.508892</td>\n",
       "    </tr>\n",
       "    <tr>\n",
       "      <th>2605</th>\n",
       "      <td>Africa</td>\n",
       "      <td>772.676619</td>\n",
       "    </tr>\n",
       "    <tr>\n",
       "      <th>2606</th>\n",
       "      <td>Africa</td>\n",
       "      <td>725.681049</td>\n",
       "    </tr>\n",
       "  </tbody>\n",
       "</table>\n",
       "<p>848 rows × 2 columns</p>\n",
       "</div>"
      ],
      "text/plain": [
       "     continent  Energy use (kg of oil equivalent per capita)\n",
       "12      Europe                                    865.592481\n",
       "13      Europe                                    923.728868\n",
       "14      Europe                                    966.683284\n",
       "15      Europe                                    921.893044\n",
       "16      Europe                                    418.286630\n",
       "...        ...                                           ...\n",
       "2602    Africa                                    896.673611\n",
       "2603    Africa                                    923.493407\n",
       "2604    Africa                                    804.508892\n",
       "2605    Africa                                    772.676619\n",
       "2606    Africa                                    725.681049\n",
       "\n",
       "[848 rows x 2 columns]"
      ]
     },
     "execution_count": 10,
     "metadata": {},
     "output_type": "execute_result"
    }
   ],
   "source": [
    "df_continent_energy = df[['continent', 'Energy use (kg of oil equivalent per capita)']]\n",
    "df_continent_energy = df_continent_energy.dropna() # drop rows with NaN\n",
    "df_continent_energy"
   ]
  },
  {
   "cell_type": "code",
   "execution_count": 11,
   "id": "76a5f2da",
   "metadata": {},
   "outputs": [],
   "source": [
    "# continents \n",
    "continents = list(set(df_continent_energy['continent'].to_list()))"
   ]
  },
  {
   "cell_type": "markdown",
   "id": "73fee619",
   "metadata": {},
   "source": [
    "But before we apply a statistical test, we should test for normality and equality of variance."
   ]
  },
  {
   "cell_type": "markdown",
   "id": "9830bf33",
   "metadata": {},
   "source": [
    "#### A. Shapiro-Wilk test (normality)"
   ]
  },
  {
   "cell_type": "code",
   "execution_count": 19,
   "id": "b1411e67",
   "metadata": {},
   "outputs": [
    {
     "name": "stdout",
     "output_type": "stream",
     "text": [
      "Africa ShapiroResult(statistic=0.6747235059738159, pvalue=2.334312218924711e-19)\n",
      "Europe ShapiroResult(statistic=0.8964674472808838, pvalue=2.9995352989614643e-12)\n",
      "Americas ShapiroResult(statistic=0.5632227659225464, pvalue=1.5868549264583104e-21)\n",
      "Asia ShapiroResult(statistic=0.6609911322593689, pvalue=4.943081931118751e-19)\n",
      "Oceania ShapiroResult(statistic=0.9818098545074463, pvalue=0.9552662372589111)\n"
     ]
    }
   ],
   "source": [
    "# test for normality - Shapiro-Wilk test\n",
    "\n",
    "from scipy.stats import shapiro\n",
    "\n",
    "for x in continents:\n",
    "    shapiro_test = stats.shapiro(df_continent_energy['Energy use (kg of oil equivalent per capita)'][df_continent_energy['continent']==x])\n",
    "    print(x, shapiro_test)"
   ]
  },
  {
   "cell_type": "markdown",
   "id": "4e714949",
   "metadata": {},
   "source": [
    "Since the most groups have a non-normal distribution (p-value less than 0.05), we ought to use a statistical test that is robust against normality assumptions."
   ]
  },
  {
   "cell_type": "markdown",
   "id": "a92448e1",
   "metadata": {},
   "source": [
    "#### B. Levene's test (normality)"
   ]
  },
  {
   "cell_type": "code",
   "execution_count": 17,
   "id": "0c709a4c",
   "metadata": {},
   "outputs": [
    {
     "name": "stdout",
     "output_type": "stream",
     "text": [
      "8.003283101567902e-10\n"
     ]
    }
   ],
   "source": [
    "# test variance - Levene's Test\n",
    "from scipy.stats import levene\n",
    "\n",
    "stat, p = levene(\n",
    "    df_continent_energy['Energy use (kg of oil equivalent per capita)'][df_continent_energy['continent']=='Africa'],\n",
    "    df_continent_energy['Energy use (kg of oil equivalent per capita)'][df_continent_energy['continent']=='Americas'],\n",
    "    df_continent_energy['Energy use (kg of oil equivalent per capita)'][df_continent_energy['continent']=='Asia'],\n",
    "    df_continent_energy['Energy use (kg of oil equivalent per capita)'][df_continent_energy['continent']=='Europe'],\n",
    "    df_continent_energy['Energy use (kg of oil equivalent per capita)'][df_continent_energy['continent']=='Oceania'])\n",
    "\n",
    "print(p)"
   ]
  },
  {
   "cell_type": "markdown",
   "id": "745c5876",
   "metadata": {},
   "source": [
    "With a p-value of less than 0.05, this means the variance across the groups are not equal."
   ]
  },
  {
   "cell_type": "markdown",
   "id": "ec9a1fc0",
   "metadata": {},
   "source": [
    "Since we are dealing with non-normal and unequal variance, we should use a non-parametric statistical test, specifically Kruskal -Wallis test which tests the null hypothesis that a median of all groups are equal."
   ]
  },
  {
   "cell_type": "markdown",
   "id": "34d1067b",
   "metadata": {},
   "source": [
    "#### C. Kruskal-Wallis Test"
   ]
  },
  {
   "cell_type": "code",
   "execution_count": 21,
   "id": "64b7aa88",
   "metadata": {},
   "outputs": [
    {
     "name": "stdout",
     "output_type": "stream",
     "text": [
      "KruskalResult(statistic=318.67631745519657, pvalue=1.012403877816158e-67)\n"
     ]
    }
   ],
   "source": [
    "# apply Kruskal-Wallis test\n",
    "\n",
    "kw_test = stats.kruskal(\n",
    "    df_continent_energy['Energy use (kg of oil equivalent per capita)'][df_continent_energy['continent']=='Africa'],\n",
    "    df_continent_energy['Energy use (kg of oil equivalent per capita)'][df_continent_energy['continent']=='Americas'],\n",
    "    df_continent_energy['Energy use (kg of oil equivalent per capita)'][df_continent_energy['continent']=='Asia'],\n",
    "    df_continent_energy['Energy use (kg of oil equivalent per capita)'][df_continent_energy['continent']=='Europe'],\n",
    "    df_continent_energy['Energy use (kg of oil equivalent per capita)'][df_continent_energy['continent']=='Oceania'])\n",
    "\n",
    "print(kw_test)"
   ]
  },
  {
   "cell_type": "markdown",
   "id": "7e21f894",
   "metadata": {},
   "source": [
    "As the p-value is lower than 0.05, we reject the null hypothesis for Kruskal-Wallis test which is that the group medians are equal and accept the alternative hypothesis which is at least one group median is statistically different from other groups.\n",
    "\n",
    "Let's calculate the median of each group."
   ]
  },
  {
   "cell_type": "code",
   "execution_count": 29,
   "id": "9e8e3426",
   "metadata": {},
   "outputs": [
    {
     "name": "stdout",
     "output_type": "stream",
     "text": [
      "Africa 449.52124719\n",
      "Europe 3027.93179277\n",
      "Americas 749.0291078995\n",
      "Asia 760.140852043\n",
      "Oceania 4044.850674445\n"
     ]
    }
   ],
   "source": [
    "for x in continents:\n",
    "    med = statistics.median(df_continent_energy['Energy use (kg of oil equivalent per capita)'][df_continent_energy['continent']==x])\n",
    "    print(x, med)"
   ]
  },
  {
   "cell_type": "markdown",
   "id": "a9c1a394",
   "metadata": {},
   "source": [
    "Here we see that Oceania has the highest median while Africa has the lowest median Energy use."
   ]
  },
  {
   "cell_type": "markdown",
   "id": "3536f810",
   "metadata": {},
   "source": [
    "#### Distribution Plot of the Energy Use of each Continent"
   ]
  },
  {
   "cell_type": "code",
   "execution_count": 27,
   "id": "33063c48",
   "metadata": {},
   "outputs": [
    {
     "data": {
      "image/png": "[encoded data removed]",
      "text/plain": [
       "<Figure size 1000x700 with 1 Axes>"
      ]
     },
     "metadata": {},
     "output_type": "display_data"
    }
   ],
   "source": [
    "data_1 = df_continent_energy['Energy use (kg of oil equivalent per capita)'][df_continent_energy['continent']=='Africa']\n",
    "data_2 = df_continent_energy['Energy use (kg of oil equivalent per capita)'][df_continent_energy['continent']=='Americas']\n",
    "data_3 = df_continent_energy['Energy use (kg of oil equivalent per capita)'][df_continent_energy['continent']=='Asia']\n",
    "data_4 = df_continent_energy['Energy use (kg of oil equivalent per capita)'][df_continent_energy['continent']=='Europe']\n",
    "data_5 = df_continent_energy['Energy use (kg of oil equivalent per capita)'][df_continent_energy['continent']=='Oceania']\n",
    "data = [data_1, data_2, data_3, data_4, data_5]\n",
    " \n",
    "fig = plt.figure(figsize =(10, 7))\n",
    "ax = fig.add_axes([0, 0, 1, 1])\n",
    "bp = ax.boxplot(data)\n",
    "ax.set_xticklabels(['Africa','Americas','Asia','Europe','Oceania'])\n",
    "plt.ylabel('Energy use (kg of oil equivalent per capita)')\n",
    "plt.xlabel('Continent')\n",
    "plt.title('Comparison of Energy use across Continents')\n",
    "plt.show()"
   ]
  },
  {
   "cell_type": "markdown",
   "id": "8b96a036",
   "metadata": {},
   "source": [
    "As seen in the box plot above, the continent groups have different distributions, with Oceania having the highest median and Africa having the lowest median Energy Use."
   ]
  },
  {
   "cell_type": "markdown",
   "id": "049bf53f",
   "metadata": {},
   "source": [
    "### 2. Is there a significant difference between Europe and Asia with respect to 'Imports of goods and services (% of GDP)' in the years after 1990? (Stats test needed)"
   ]
  },
  {
   "cell_type": "markdown",
   "id": "c2382208",
   "metadata": {},
   "source": [
    "We need to perform a statistical test that compares continuous variables fo two groups whether in terms of mean, median, or distribution. Given the type of data, we are inclined to use T-Test. However, we have to confirm our parametric assumptions first."
   ]
  },
  {
   "cell_type": "markdown",
   "id": "8717b414",
   "metadata": {},
   "source": [
    "To start, we extract the dataset by country (Europe and Asia) and year (>1900). "
   ]
  },
  {
   "cell_type": "code",
   "execution_count": 30,
   "id": "9604fa2c",
   "metadata": {},
   "outputs": [],
   "source": [
    "df_europe = df[(df['Year'] > 1990) & (df['continent'] == 'Europe')][['Year', 'continent', 'Imports of goods and services (% of GDP)']]\n",
    "df_asia = df[(df['Year'] > 1990) & (df['continent'] == 'Asia')][['Year', 'continent', 'Imports of goods and services (% of GDP)']]"
   ]
  },
  {
   "cell_type": "code",
   "execution_count": 33,
   "id": "83cd5da6",
   "metadata": {},
   "outputs": [],
   "source": [
    "# drop NaN values\n",
    "df_europe = df_europe.dropna()\n",
    "df_asia = df_asia.dropna()"
   ]
  },
  {
   "cell_type": "markdown",
   "id": "7bb0b9c8",
   "metadata": {},
   "source": [
    "Similar to what we did in the previous question, we need to test for normality and equality of variance in order to apply an appropriate statistical test."
   ]
  },
  {
   "cell_type": "markdown",
   "id": "003d32a7",
   "metadata": {},
   "source": [
    "#### A. Shapiro-Wilk test (normality)"
   ]
  },
  {
   "cell_type": "code",
   "execution_count": 36,
   "id": "ac8297f6",
   "metadata": {},
   "outputs": [
    {
     "name": "stdout",
     "output_type": "stream",
     "text": [
      "Europe:  ShapiroResult(statistic=0.929049015045166, pvalue=1.3634329661726952e-05)\n",
      "Asia:  ShapiroResult(statistic=0.8548967838287354, pvalue=2.3096902168617817e-08)\n"
     ]
    }
   ],
   "source": [
    "# test normality of distribution - Shapiro-Wilk test\n",
    "# if p-value is less than 0.05, then not normal\n",
    "\n",
    "shapiro_test_europe = stats.shapiro(df_europe['Imports of goods and services (% of GDP)'])\n",
    "shapiro_test_asia = stats.shapiro(df_asia['Imports of goods and services (% of GDP)'])\n",
    "print('Europe: ', shapiro_test_europe)\n",
    "print('Asia: ', shapiro_test_asia)"
   ]
  },
  {
   "cell_type": "markdown",
   "id": "972d63b9",
   "metadata": {},
   "source": [
    "With p-value less than 0.05, the results show that the two groups are non-normal."
   ]
  },
  {
   "cell_type": "markdown",
   "id": "6382aaf6",
   "metadata": {},
   "source": [
    "#### B. Levene's Test (Variance)"
   ]
  },
  {
   "cell_type": "code",
   "execution_count": 37,
   "id": "56634e25",
   "metadata": {},
   "outputs": [
    {
     "name": "stdout",
     "output_type": "stream",
     "text": [
      "0.00018461387781129707\n"
     ]
    }
   ],
   "source": [
    "# test variance - Levene's Test\n",
    "\n",
    "stat, p = levene(df_europe['Imports of goods and services (% of GDP)'], df_asia['Imports of goods and services (% of GDP)'])\n",
    "print(p)"
   ]
  },
  {
   "cell_type": "markdown",
   "id": "3466d189",
   "metadata": {},
   "source": [
    "Since the p-value is less than 0.05, the variance between the two groups is unequal.\n",
    "\n",
    "\n",
    "Instead of T-Test, we must use a non-parametric statistical test that is robust against normality assumptions and unequal variances. The appropriate statistical test for this is the **Mann-Whitney U Test**."
   ]
  },
  {
   "cell_type": "markdown",
   "id": "b0d477a6",
   "metadata": {},
   "source": [
    "#### C. Mann-Whitney U Test"
   ]
  },
  {
   "cell_type": "code",
   "execution_count": 38,
   "id": "1be920ff",
   "metadata": {},
   "outputs": [
    {
     "name": "stdout",
     "output_type": "stream",
     "text": [
      "0.786701277923471\n"
     ]
    }
   ],
   "source": [
    "from scipy.stats import mannwhitneyu\n",
    "\n",
    "U1, p_mwu = mannwhitneyu(df_europe['Imports of goods and services (% of GDP)'], df_asia['Imports of goods and services (% of GDP)'], alternative='two-sided')\n",
    "                                                        \n",
    "print(p_mwu)                                                                                    "
   ]
  },
  {
   "cell_type": "markdown",
   "id": "015899de",
   "metadata": {},
   "source": [
    "Since the p-value is greater than 0.05, we accept the null hypothesis that both groups have similar distributions."
   ]
  },
  {
   "cell_type": "markdown",
   "id": "0f3b7b06",
   "metadata": {},
   "source": [
    "#### Distribution Plot of the Imports of goods and Services of Europe and Asia"
   ]
  },
  {
   "cell_type": "code",
   "execution_count": 40,
   "id": "647d9e17",
   "metadata": {},
   "outputs": [
    {
     "data": {
      "image/png": "[encoded data removed]",
      "text/plain": [
       "<Figure size 1000x700 with 1 Axes>"
      ]
     },
     "metadata": {},
     "output_type": "display_data"
    }
   ],
   "source": [
    "data_1 = df_europe['Imports of goods and services (% of GDP)']\n",
    "data_2 = df_asia['Imports of goods and services (% of GDP)']\n",
    "data = [data_1, data_2]\n",
    " \n",
    "fig = plt.figure(figsize =(10, 7))\n",
    "ax = fig.add_axes([0, 0, 1, 1])\n",
    "bp = ax.boxplot(data)\n",
    "ax.set_xticklabels(['Europe','Asia'])\n",
    "plt.ylabel('Imports of goods and services (% of GDP)')\n",
    "plt.xlabel('Country')\n",
    "plt.title('Comparison of Imports (% of GDP) between Europe and Asia')\n",
    "plt.show()"
   ]
  },
  {
   "cell_type": "markdown",
   "id": "cdcddb80",
   "metadata": {},
   "source": [
    "As we can observe, the box plots of Europe and Asia are similar in terms of their distribution and their means are almost aligned/equal."
   ]
  },
  {
   "cell_type": "markdown",
   "id": "73870f4e",
   "metadata": {},
   "source": [
    "#### 3. What is the country (or countries) that has the highest 'Population density (people per sq. km of land area)' across all years? (i.e., which country has the highest average ranking in this category across each time point in the dataset?)"
   ]
  },
  {
   "cell_type": "markdown",
   "id": "470e021a",
   "metadata": {},
   "source": [
    "To start, we the columns for Population density, Year, and Country. Then we get the mean Population Density per year in each country. We do this by grouping the dataset by Country and Year which averages the values with identical Country and Year rows."
   ]
  },
  {
   "cell_type": "code",
   "execution_count": 88,
   "id": "69fa0fc9",
   "metadata": {},
   "outputs": [],
   "source": [
    "df_pop_den = df[['Year','Country Name','Population density (people per sq. km of land area)']].dropna()\n",
    "\n",
    "# group by Country and Year to get average population density per year\n",
    "df_pop_den = df_pop_den.groupby(['Country Name','Year']).mean().reset_index()"
   ]
  },
  {
   "cell_type": "code",
   "execution_count": 89,
   "id": "8190b925",
   "metadata": {},
   "outputs": [
    {
     "data": {
      "text/plain": [
       "{1962, 1967, 1972, 1977, 1982, 1987, 1992, 1997, 2002, 2007}"
      ]
     },
     "execution_count": 89,
     "metadata": {},
     "output_type": "execute_result"
    }
   ],
   "source": [
    "# count how many unique years there are\n",
    "years = set(df_pop_den['Year'].to_list())\n",
    "years"
   ]
  },
  {
   "cell_type": "markdown",
   "id": "d116a8aa",
   "metadata": {},
   "source": [
    "We obtain the highest population density value from each year, then determine the countries that have these values."
   ]
  },
  {
   "cell_type": "code",
   "execution_count": 114,
   "id": "901373c3",
   "metadata": {},
   "outputs": [
    {
     "data": {
      "text/plain": [
       "Counter({'Macao SAR, China': 5, 'Monaco': 5})"
      ]
     },
     "execution_count": 114,
     "metadata": {},
     "output_type": "execute_result"
    }
   ],
   "source": [
    "# get highest pop density per year\n",
    "highest_population_density = []\n",
    "for i in years:\n",
    "    highest_population_density.append(df_pop_den[df_pop_den['Year'] == i]['Population density (people per sq. km of land area)'].max())\n",
    "\n",
    "    \n",
    "# search for countries with these max pop density in each year\n",
    "highest_countries_per_year = []\n",
    "for i, x in zip(years, highest_population_density):\n",
    "    highest_countries_per_year.append(df_pop_den[(df_pop_den['Year'] == i) & (df_pop_den['Population density (people per sq. km of land area)'] == x)]['Country Name'].to_list()[0])\n",
    "\n",
    "    \n",
    "Counter(highest_countries_per_year)"
   ]
  },
  {
   "cell_type": "markdown",
   "id": "d0f6c3dc",
   "metadata": {},
   "source": [
    "**Monaco** and **Macao, China** have the highest population density across all years. Both countries appeared as many times as the country with highest population density across all years, from 1962 to 2007."
   ]
  },
  {
   "cell_type": "markdown",
   "id": "2cffdb3b",
   "metadata": {},
   "source": [
    "#### 4. What country (or countries) has shown the greatest increase in 'Life expectancy at birth, total (years)' between 1962 and 2007?"
   ]
  },
  {
   "cell_type": "markdown",
   "id": "8c3725a3",
   "metadata": {},
   "source": [
    "To get the countries with greatest increase in Life Expectancy, we should calculate the difference in the life expectancy between 1962 and 2007 in terms of percentage increase. The formula used for percentage increase is as follows:\n",
    "\n",
    "Percentage Increase % = 100 * (X_2007 - X_1962) / X_1962\n",
    "\n",
    "Using percentage increase, we are able to see the relative change in life expectancy for a country and take into account how big is the change from the starting point."
   ]
  },
  {
   "cell_type": "code",
   "execution_count": 132,
   "id": "1ccb10d1",
   "metadata": {},
   "outputs": [],
   "source": [
    "countries = set(df['Country Name'].to_list())"
   ]
  },
  {
   "cell_type": "code",
   "execution_count": 133,
   "id": "5a0294ec",
   "metadata": {},
   "outputs": [],
   "source": [
    "# extract country, year, and life expectancy\n",
    "df_1962 = df[df['Year'] == 1962][['Year','Country Name','Life expectancy at birth, total (years)']].dropna()\n",
    "df_2007 = df[df['Year'] == 2007][['Year','Country Name','Life expectancy at birth, total (years)']].dropna()\n",
    "\n",
    "# average the life expectancy by country in 1962 and 2007\n",
    "df_mean_1962 = df_1962.groupby('Country Name').mean().reset_index()\n",
    "df_mean_2007 = df_2007.groupby('Country Name').mean().reset_index()"
   ]
  },
  {
   "cell_type": "code",
   "execution_count": 134,
   "id": "43dbe164",
   "metadata": {},
   "outputs": [
    {
     "data": {
      "text/html": [
       "<div>\n",
       "<style scoped>\n",
       "    .dataframe tbody tr th:only-of-type {\n",
       "        vertical-align: middle;\n",
       "    }\n",
       "\n",
       "    .dataframe tbody tr th {\n",
       "        vertical-align: top;\n",
       "    }\n",
       "\n",
       "    .dataframe thead th {\n",
       "        text-align: right;\n",
       "    }\n",
       "</style>\n",
       "<table border=\"1\" class=\"dataframe\">\n",
       "  <thead>\n",
       "    <tr style=\"text-align: right;\">\n",
       "      <th></th>\n",
       "      <th>Country Name</th>\n",
       "      <th>Year</th>\n",
       "      <th>Life expectancy at birth, total (years)</th>\n",
       "    </tr>\n",
       "  </thead>\n",
       "  <tbody>\n",
       "    <tr>\n",
       "      <th>0</th>\n",
       "      <td>Afghanistan</td>\n",
       "      <td>1962.0</td>\n",
       "      <td>33.219902</td>\n",
       "    </tr>\n",
       "    <tr>\n",
       "      <th>1</th>\n",
       "      <td>Albania</td>\n",
       "      <td>1962.0</td>\n",
       "      <td>64.162854</td>\n",
       "    </tr>\n",
       "    <tr>\n",
       "      <th>2</th>\n",
       "      <td>Algeria</td>\n",
       "      <td>1962.0</td>\n",
       "      <td>47.045000</td>\n",
       "    </tr>\n",
       "    <tr>\n",
       "      <th>3</th>\n",
       "      <td>Angola</td>\n",
       "      <td>1962.0</td>\n",
       "      <td>33.787585</td>\n",
       "    </tr>\n",
       "    <tr>\n",
       "      <th>4</th>\n",
       "      <td>Antigua and Barbuda</td>\n",
       "      <td>1962.0</td>\n",
       "      <td>62.598537</td>\n",
       "    </tr>\n",
       "    <tr>\n",
       "      <th>...</th>\n",
       "      <td>...</td>\n",
       "      <td>...</td>\n",
       "      <td>...</td>\n",
       "    </tr>\n",
       "    <tr>\n",
       "      <th>231</th>\n",
       "      <td>Virgin Islands</td>\n",
       "      <td>1962.0</td>\n",
       "      <td>64.462561</td>\n",
       "    </tr>\n",
       "    <tr>\n",
       "      <th>232</th>\n",
       "      <td>World</td>\n",
       "      <td>1962.0</td>\n",
       "      <td>53.404890</td>\n",
       "    </tr>\n",
       "    <tr>\n",
       "      <th>233</th>\n",
       "      <td>Yemen, Rep.</td>\n",
       "      <td>1962.0</td>\n",
       "      <td>34.739561</td>\n",
       "    </tr>\n",
       "    <tr>\n",
       "      <th>234</th>\n",
       "      <td>Zambia</td>\n",
       "      <td>1962.0</td>\n",
       "      <td>45.853659</td>\n",
       "    </tr>\n",
       "    <tr>\n",
       "      <th>235</th>\n",
       "      <td>Zimbabwe</td>\n",
       "      <td>1962.0</td>\n",
       "      <td>52.277902</td>\n",
       "    </tr>\n",
       "  </tbody>\n",
       "</table>\n",
       "<p>236 rows × 3 columns</p>\n",
       "</div>"
      ],
      "text/plain": [
       "            Country Name    Year  Life expectancy at birth, total (years)\n",
       "0            Afghanistan  1962.0                                33.219902\n",
       "1                Albania  1962.0                                64.162854\n",
       "2                Algeria  1962.0                                47.045000\n",
       "3                 Angola  1962.0                                33.787585\n",
       "4    Antigua and Barbuda  1962.0                                62.598537\n",
       "..                   ...     ...                                      ...\n",
       "231       Virgin Islands  1962.0                                64.462561\n",
       "232                World  1962.0                                53.404890\n",
       "233          Yemen, Rep.  1962.0                                34.739561\n",
       "234               Zambia  1962.0                                45.853659\n",
       "235             Zimbabwe  1962.0                                52.277902\n",
       "\n",
       "[236 rows x 3 columns]"
      ]
     },
     "execution_count": 134,
     "metadata": {},
     "output_type": "execute_result"
    }
   ],
   "source": [
    "df_mean_1962"
   ]
  },
  {
   "cell_type": "code",
   "execution_count": 135,
   "id": "af44c927",
   "metadata": {},
   "outputs": [
    {
     "data": {
      "text/html": [
       "<div>\n",
       "<style scoped>\n",
       "    .dataframe tbody tr th:only-of-type {\n",
       "        vertical-align: middle;\n",
       "    }\n",
       "\n",
       "    .dataframe tbody tr th {\n",
       "        vertical-align: top;\n",
       "    }\n",
       "\n",
       "    .dataframe thead th {\n",
       "        text-align: right;\n",
       "    }\n",
       "</style>\n",
       "<table border=\"1\" class=\"dataframe\">\n",
       "  <thead>\n",
       "    <tr style=\"text-align: right;\">\n",
       "      <th></th>\n",
       "      <th>Country Name</th>\n",
       "      <th>Year</th>\n",
       "      <th>Life expectancy at birth, total (years)</th>\n",
       "    </tr>\n",
       "  </thead>\n",
       "  <tbody>\n",
       "    <tr>\n",
       "      <th>0</th>\n",
       "      <td>Afghanistan</td>\n",
       "      <td>2007.0</td>\n",
       "      <td>57.833829</td>\n",
       "    </tr>\n",
       "    <tr>\n",
       "      <th>1</th>\n",
       "      <td>Albania</td>\n",
       "      <td>2007.0</td>\n",
       "      <td>76.470293</td>\n",
       "    </tr>\n",
       "    <tr>\n",
       "      <th>2</th>\n",
       "      <td>Algeria</td>\n",
       "      <td>2007.0</td>\n",
       "      <td>72.898366</td>\n",
       "    </tr>\n",
       "    <tr>\n",
       "      <th>3</th>\n",
       "      <td>Angola</td>\n",
       "      <td>2007.0</td>\n",
       "      <td>49.435732</td>\n",
       "    </tr>\n",
       "    <tr>\n",
       "      <th>4</th>\n",
       "      <td>Antigua and Barbuda</td>\n",
       "      <td>2007.0</td>\n",
       "      <td>74.803220</td>\n",
       "    </tr>\n",
       "    <tr>\n",
       "      <th>...</th>\n",
       "      <td>...</td>\n",
       "      <td>...</td>\n",
       "      <td>...</td>\n",
       "    </tr>\n",
       "    <tr>\n",
       "      <th>243</th>\n",
       "      <td>West Bank and Gaza</td>\n",
       "      <td>2007.0</td>\n",
       "      <td>71.747049</td>\n",
       "    </tr>\n",
       "    <tr>\n",
       "      <th>244</th>\n",
       "      <td>World</td>\n",
       "      <td>2007.0</td>\n",
       "      <td>69.641854</td>\n",
       "    </tr>\n",
       "    <tr>\n",
       "      <th>245</th>\n",
       "      <td>Yemen, Rep.</td>\n",
       "      <td>2007.0</td>\n",
       "      <td>61.954805</td>\n",
       "    </tr>\n",
       "    <tr>\n",
       "      <th>246</th>\n",
       "      <td>Zambia</td>\n",
       "      <td>2007.0</td>\n",
       "      <td>52.477146</td>\n",
       "    </tr>\n",
       "    <tr>\n",
       "      <th>247</th>\n",
       "      <td>Zimbabwe</td>\n",
       "      <td>2007.0</td>\n",
       "      <td>44.177756</td>\n",
       "    </tr>\n",
       "  </tbody>\n",
       "</table>\n",
       "<p>248 rows × 3 columns</p>\n",
       "</div>"
      ],
      "text/plain": [
       "            Country Name    Year  Life expectancy at birth, total (years)\n",
       "0            Afghanistan  2007.0                                57.833829\n",
       "1                Albania  2007.0                                76.470293\n",
       "2                Algeria  2007.0                                72.898366\n",
       "3                 Angola  2007.0                                49.435732\n",
       "4    Antigua and Barbuda  2007.0                                74.803220\n",
       "..                   ...     ...                                      ...\n",
       "243   West Bank and Gaza  2007.0                                71.747049\n",
       "244                World  2007.0                                69.641854\n",
       "245          Yemen, Rep.  2007.0                                61.954805\n",
       "246               Zambia  2007.0                                52.477146\n",
       "247             Zimbabwe  2007.0                                44.177756\n",
       "\n",
       "[248 rows x 3 columns]"
      ]
     },
     "execution_count": 135,
     "metadata": {},
     "output_type": "execute_result"
    }
   ],
   "source": [
    "df_mean_2007"
   ]
  },
  {
   "cell_type": "code",
   "execution_count": 136,
   "id": "04c66ec9",
   "metadata": {},
   "outputs": [
    {
     "data": {
      "text/html": [
       "<div>\n",
       "<style scoped>\n",
       "    .dataframe tbody tr th:only-of-type {\n",
       "        vertical-align: middle;\n",
       "    }\n",
       "\n",
       "    .dataframe tbody tr th {\n",
       "        vertical-align: top;\n",
       "    }\n",
       "\n",
       "    .dataframe thead th {\n",
       "        text-align: right;\n",
       "    }\n",
       "</style>\n",
       "<table border=\"1\" class=\"dataframe\">\n",
       "  <thead>\n",
       "    <tr style=\"text-align: right;\">\n",
       "      <th></th>\n",
       "      <th>Country Name</th>\n",
       "      <th>Year_x</th>\n",
       "      <th>Life expectancy at birth, total (years)_x</th>\n",
       "      <th>Year_y</th>\n",
       "      <th>Life expectancy at birth, total (years)_y</th>\n",
       "    </tr>\n",
       "  </thead>\n",
       "  <tbody>\n",
       "    <tr>\n",
       "      <th>0</th>\n",
       "      <td>Afghanistan</td>\n",
       "      <td>2007.0</td>\n",
       "      <td>57.833829</td>\n",
       "      <td>1962.0</td>\n",
       "      <td>33.219902</td>\n",
       "    </tr>\n",
       "    <tr>\n",
       "      <th>1</th>\n",
       "      <td>Albania</td>\n",
       "      <td>2007.0</td>\n",
       "      <td>76.470293</td>\n",
       "      <td>1962.0</td>\n",
       "      <td>64.162854</td>\n",
       "    </tr>\n",
       "    <tr>\n",
       "      <th>2</th>\n",
       "      <td>Algeria</td>\n",
       "      <td>2007.0</td>\n",
       "      <td>72.898366</td>\n",
       "      <td>1962.0</td>\n",
       "      <td>47.045000</td>\n",
       "    </tr>\n",
       "    <tr>\n",
       "      <th>3</th>\n",
       "      <td>Angola</td>\n",
       "      <td>2007.0</td>\n",
       "      <td>49.435732</td>\n",
       "      <td>1962.0</td>\n",
       "      <td>33.787585</td>\n",
       "    </tr>\n",
       "    <tr>\n",
       "      <th>4</th>\n",
       "      <td>Antigua and Barbuda</td>\n",
       "      <td>2007.0</td>\n",
       "      <td>74.803220</td>\n",
       "      <td>1962.0</td>\n",
       "      <td>62.598537</td>\n",
       "    </tr>\n",
       "    <tr>\n",
       "      <th>...</th>\n",
       "      <td>...</td>\n",
       "      <td>...</td>\n",
       "      <td>...</td>\n",
       "      <td>...</td>\n",
       "      <td>...</td>\n",
       "    </tr>\n",
       "    <tr>\n",
       "      <th>242</th>\n",
       "      <td>Virgin Islands</td>\n",
       "      <td>2007.0</td>\n",
       "      <td>78.824390</td>\n",
       "      <td>1962.0</td>\n",
       "      <td>64.462561</td>\n",
       "    </tr>\n",
       "    <tr>\n",
       "      <th>244</th>\n",
       "      <td>World</td>\n",
       "      <td>2007.0</td>\n",
       "      <td>69.641854</td>\n",
       "      <td>1962.0</td>\n",
       "      <td>53.404890</td>\n",
       "    </tr>\n",
       "    <tr>\n",
       "      <th>245</th>\n",
       "      <td>Yemen, Rep.</td>\n",
       "      <td>2007.0</td>\n",
       "      <td>61.954805</td>\n",
       "      <td>1962.0</td>\n",
       "      <td>34.739561</td>\n",
       "    </tr>\n",
       "    <tr>\n",
       "      <th>246</th>\n",
       "      <td>Zambia</td>\n",
       "      <td>2007.0</td>\n",
       "      <td>52.477146</td>\n",
       "      <td>1962.0</td>\n",
       "      <td>45.853659</td>\n",
       "    </tr>\n",
       "    <tr>\n",
       "      <th>247</th>\n",
       "      <td>Zimbabwe</td>\n",
       "      <td>2007.0</td>\n",
       "      <td>44.177756</td>\n",
       "      <td>1962.0</td>\n",
       "      <td>52.277902</td>\n",
       "    </tr>\n",
       "  </tbody>\n",
       "</table>\n",
       "<p>236 rows × 5 columns</p>\n",
       "</div>"
      ],
      "text/plain": [
       "            Country Name  Year_x  Life expectancy at birth, total (years)_x  \\\n",
       "0            Afghanistan  2007.0                                  57.833829   \n",
       "1                Albania  2007.0                                  76.470293   \n",
       "2                Algeria  2007.0                                  72.898366   \n",
       "3                 Angola  2007.0                                  49.435732   \n",
       "4    Antigua and Barbuda  2007.0                                  74.803220   \n",
       "..                   ...     ...                                        ...   \n",
       "242       Virgin Islands  2007.0                                  78.824390   \n",
       "244                World  2007.0                                  69.641854   \n",
       "245          Yemen, Rep.  2007.0                                  61.954805   \n",
       "246               Zambia  2007.0                                  52.477146   \n",
       "247             Zimbabwe  2007.0                                  44.177756   \n",
       "\n",
       "     Year_y  Life expectancy at birth, total (years)_y  \n",
       "0    1962.0                                  33.219902  \n",
       "1    1962.0                                  64.162854  \n",
       "2    1962.0                                  47.045000  \n",
       "3    1962.0                                  33.787585  \n",
       "4    1962.0                                  62.598537  \n",
       "..      ...                                        ...  \n",
       "242  1962.0                                  64.462561  \n",
       "244  1962.0                                  53.404890  \n",
       "245  1962.0                                  34.739561  \n",
       "246  1962.0                                  45.853659  \n",
       "247  1962.0                                  52.277902  \n",
       "\n",
       "[236 rows x 5 columns]"
      ]
     },
     "execution_count": 136,
     "metadata": {},
     "output_type": "execute_result"
    }
   ],
   "source": [
    "# Merge two datasets by common Country Name\n",
    "df_merged = pd.merge(df_mean_2007, df_mean_1962, on=\"Country Name\", how=\"left\")\n",
    "df_merged = df_merged.dropna()\n",
    "df_merged"
   ]
  },
  {
   "cell_type": "markdown",
   "id": "26155f1a",
   "metadata": {},
   "source": [
    "There are only 236 countries with both 1962 and 2007 data. We get the percentage increase in Imports of goods and services (% of GDP) between 1962 and 2007."
   ]
  },
  {
   "cell_type": "code",
   "execution_count": 137,
   "id": "bcacf43b",
   "metadata": {},
   "outputs": [],
   "source": [
    "# in terms of percentage - 2007 - 1962 / 1962\n",
    "df_merged['Percentage Increase %'] = 100 * ((df_merged['Life expectancy at birth, total (years)_x'] - df_merged['Life expectancy at birth, total (years)_y']) / df_merged['Life expectancy at birth, total (years)_x'])\n"
   ]
  },
  {
   "cell_type": "code",
   "execution_count": 138,
   "id": "63aec01e",
   "metadata": {},
   "outputs": [
    {
     "data": {
      "text/html": [
       "<div>\n",
       "<style scoped>\n",
       "    .dataframe tbody tr th:only-of-type {\n",
       "        vertical-align: middle;\n",
       "    }\n",
       "\n",
       "    .dataframe tbody tr th {\n",
       "        vertical-align: top;\n",
       "    }\n",
       "\n",
       "    .dataframe thead th {\n",
       "        text-align: right;\n",
       "    }\n",
       "</style>\n",
       "<table border=\"1\" class=\"dataframe\">\n",
       "  <thead>\n",
       "    <tr style=\"text-align: right;\">\n",
       "      <th></th>\n",
       "      <th>Country Name</th>\n",
       "      <th>Year_x</th>\n",
       "      <th>Life expectancy at birth, total (years)_x</th>\n",
       "      <th>Year_y</th>\n",
       "      <th>Life expectancy at birth, total (years)_y</th>\n",
       "      <th>Percentage Increase %</th>\n",
       "    </tr>\n",
       "  </thead>\n",
       "  <tbody>\n",
       "    <tr>\n",
       "      <th>21</th>\n",
       "      <td>Bhutan</td>\n",
       "      <td>2007.0</td>\n",
       "      <td>66.293098</td>\n",
       "      <td>1962.0</td>\n",
       "      <td>33.094146</td>\n",
       "      <td>50.079047</td>\n",
       "    </tr>\n",
       "    <tr>\n",
       "      <th>142</th>\n",
       "      <td>Maldives</td>\n",
       "      <td>2007.0</td>\n",
       "      <td>75.399707</td>\n",
       "      <td>1962.0</td>\n",
       "      <td>38.483561</td>\n",
       "      <td>48.960596</td>\n",
       "    </tr>\n",
       "    <tr>\n",
       "      <th>143</th>\n",
       "      <td>Mali</td>\n",
       "      <td>2007.0</td>\n",
       "      <td>54.261927</td>\n",
       "      <td>1962.0</td>\n",
       "      <td>28.548463</td>\n",
       "      <td>47.387671</td>\n",
       "    </tr>\n",
       "    <tr>\n",
       "      <th>224</th>\n",
       "      <td>Timor-Leste</td>\n",
       "      <td>2007.0</td>\n",
       "      <td>65.824195</td>\n",
       "      <td>1962.0</td>\n",
       "      <td>34.739049</td>\n",
       "      <td>47.224499</td>\n",
       "    </tr>\n",
       "    <tr>\n",
       "      <th>160</th>\n",
       "      <td>Nepal</td>\n",
       "      <td>2007.0</td>\n",
       "      <td>66.551927</td>\n",
       "      <td>1962.0</td>\n",
       "      <td>35.952293</td>\n",
       "      <td>45.978585</td>\n",
       "    </tr>\n",
       "    <tr>\n",
       "      <th>...</th>\n",
       "      <td>...</td>\n",
       "      <td>...</td>\n",
       "      <td>...</td>\n",
       "      <td>...</td>\n",
       "      <td>...</td>\n",
       "      <td>...</td>\n",
       "    </tr>\n",
       "    <tr>\n",
       "      <th>16</th>\n",
       "      <td>Belarus</td>\n",
       "      <td>2007.0</td>\n",
       "      <td>70.203415</td>\n",
       "      <td>1962.0</td>\n",
       "      <td>68.635829</td>\n",
       "      <td>2.232919</td>\n",
       "    </tr>\n",
       "    <tr>\n",
       "      <th>186</th>\n",
       "      <td>Russian Federation</td>\n",
       "      <td>2007.0</td>\n",
       "      <td>67.497561</td>\n",
       "      <td>1962.0</td>\n",
       "      <td>67.021415</td>\n",
       "      <td>0.705427</td>\n",
       "    </tr>\n",
       "    <tr>\n",
       "      <th>232</th>\n",
       "      <td>Ukraine</td>\n",
       "      <td>2007.0</td>\n",
       "      <td>68.222195</td>\n",
       "      <td>1962.0</td>\n",
       "      <td>69.146098</td>\n",
       "      <td>-1.354255</td>\n",
       "    </tr>\n",
       "    <tr>\n",
       "      <th>128</th>\n",
       "      <td>Lesotho</td>\n",
       "      <td>2007.0</td>\n",
       "      <td>44.882220</td>\n",
       "      <td>1962.0</td>\n",
       "      <td>47.402244</td>\n",
       "      <td>-5.614750</td>\n",
       "    </tr>\n",
       "    <tr>\n",
       "      <th>247</th>\n",
       "      <td>Zimbabwe</td>\n",
       "      <td>2007.0</td>\n",
       "      <td>44.177756</td>\n",
       "      <td>1962.0</td>\n",
       "      <td>52.277902</td>\n",
       "      <td>-18.335350</td>\n",
       "    </tr>\n",
       "  </tbody>\n",
       "</table>\n",
       "<p>236 rows × 6 columns</p>\n",
       "</div>"
      ],
      "text/plain": [
       "           Country Name  Year_x  Life expectancy at birth, total (years)_x  \\\n",
       "21               Bhutan  2007.0                                  66.293098   \n",
       "142            Maldives  2007.0                                  75.399707   \n",
       "143                Mali  2007.0                                  54.261927   \n",
       "224         Timor-Leste  2007.0                                  65.824195   \n",
       "160               Nepal  2007.0                                  66.551927   \n",
       "..                  ...     ...                                        ...   \n",
       "16              Belarus  2007.0                                  70.203415   \n",
       "186  Russian Federation  2007.0                                  67.497561   \n",
       "232             Ukraine  2007.0                                  68.222195   \n",
       "128             Lesotho  2007.0                                  44.882220   \n",
       "247            Zimbabwe  2007.0                                  44.177756   \n",
       "\n",
       "     Year_y  Life expectancy at birth, total (years)_y  Percentage Increase %  \n",
       "21   1962.0                                  33.094146              50.079047  \n",
       "142  1962.0                                  38.483561              48.960596  \n",
       "143  1962.0                                  28.548463              47.387671  \n",
       "224  1962.0                                  34.739049              47.224499  \n",
       "160  1962.0                                  35.952293              45.978585  \n",
       "..      ...                                        ...                    ...  \n",
       "16   1962.0                                  68.635829               2.232919  \n",
       "186  1962.0                                  67.021415               0.705427  \n",
       "232  1962.0                                  69.146098              -1.354255  \n",
       "128  1962.0                                  47.402244              -5.614750  \n",
       "247  1962.0                                  52.277902             -18.335350  \n",
       "\n",
       "[236 rows x 6 columns]"
      ]
     },
     "execution_count": 138,
     "metadata": {},
     "output_type": "execute_result"
    }
   ],
   "source": [
    "# sort by highest percentage increase\n",
    "df_merged.sort_values('Percentage Increase %', ascending=False)"
   ]
  },
  {
   "cell_type": "markdown",
   "id": "ddf7bfd1",
   "metadata": {},
   "source": [
    "Based on percentage increase in Life Expectancy between 1962 and 2007, **Bhutan** showed the greatest increase, followed by Maldives, Mali, then Timor-Leste."
   ]
  }
 ],
 "metadata": {
  "kernelspec": {
   "display_name": "Python 3 (ipykernel)",
   "language": "python",
   "name": "python3"
  },
  "language_info": {
   "codemirror_mode": {
    "name": "ipython",
    "version": 3
   },
   "file_extension": ".py",
   "mimetype": "text/x-python",
   "name": "python",
   "nbconvert_exporter": "python",
   "pygments_lexer": "ipython3",
   "version": "3.9.7"
  },
  "widgets": {
   "application/vnd.jupyter.widget-state+json": {
    "state": {},
    "version_major": 2,
    "version_minor": 0
   }
  }
 },
 "nbformat": 4,
 "nbformat_minor": 5
}
